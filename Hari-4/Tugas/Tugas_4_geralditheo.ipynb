{
 "metadata": {
  "language_info": {
   "codemirror_mode": {
    "name": "ipython",
    "version": 3
   },
   "file_extension": ".py",
   "mimetype": "text/x-python",
   "name": "python",
   "nbconvert_exporter": "python",
   "pygments_lexer": "ipython3",
   "version": "3.8.6-final"
  },
  "orig_nbformat": 2,
  "kernelspec": {
   "name": "python3",
   "display_name": "Python 3.8.6 64-bit ('public_op')",
   "metadata": {
    "interpreter": {
     "hash": "66914c7a76df292d6a0bba50fafa355dedd93b53ceb1028df6ae26adc2894cfa"
    }
   }
  }
 },
 "nbformat": 4,
 "nbformat_minor": 2,
 "cells": [
  {
   "cell_type": "markdown",
   "source": [
    "1. Keluarkan dan tampilkan menggunakan print semua anggota list pada sel dibawah"
   ],
   "metadata": {}
  },
  {
   "cell_type": "code",
   "execution_count": 1,
   "source": [
    "#kerjakan soal no.1 pada sel berikut ini\r\n",
    "#contoh list = [1,2,3]\r\n",
    "#contoh hasil\r\n",
    "#1\r\n",
    "#2\r\n",
    "#3\r\n",
    "\r\n",
    "data_list = ['bandung', 'jakarta', 'semarang', 'palembang']"
   ],
   "outputs": [],
   "metadata": {}
  },
  {
   "cell_type": "code",
   "execution_count": 2,
   "source": [
    "for data in data_list:\r\n",
    "    print(data)"
   ],
   "outputs": [
    {
     "output_type": "stream",
     "name": "stdout",
     "text": [
      "bandung\n",
      "jakarta\n",
      "semarang\n",
      "palembang\n"
     ]
    }
   ],
   "metadata": {}
  },
  {
   "cell_type": "markdown",
   "source": [
    "2. Keluarkan dan tampilkan menggunakan metode print anggota list dengan tipe numerik dari list pada sel di bawah"
   ],
   "metadata": {}
  },
  {
   "cell_type": "code",
   "execution_count": 3,
   "source": [
    "#kerjakan soal no.2 pada sel berikut ini\r\n",
    "#contoh list = ['a', 1]\r\n",
    "#contoh hasil :\r\n",
    "#1\r\n",
    "\r\n",
    "data_list_2 = [100, 'makassar', 15.5, True]"
   ],
   "outputs": [],
   "metadata": {}
  },
  {
   "cell_type": "code",
   "execution_count": 16,
   "source": [
    "for data in data_list_2:\r\n",
    "    if (type(data) == type(0)) | (type(data) == type(0.0)) :\r\n",
    "        print(data)\r\n"
   ],
   "outputs": [
    {
     "output_type": "stream",
     "name": "stdout",
     "text": [
      "100\n",
      "15.5\n"
     ]
    }
   ],
   "metadata": {}
  },
  {
   "cell_type": "markdown",
   "source": [
    "3. lakukan pengecekan apakah terdapat angka pada tiap2 anggota list. lalu tampilkan sesuai format yang diminta"
   ],
   "metadata": {}
  },
  {
   "cell_type": "code",
   "execution_count": 17,
   "source": [
    "#kerjakan soal no.3 pada sel berikut ini\r\n",
    "#contoh list = ['ada', 'ganesa10']\r\n",
    "#contoh hasil:\r\n",
    "#ada tidak memiliki angka\r\n",
    "#ganesa10 memiliki angka\r\n",
    "\r\n",
    "data_list_3 = ['asda8asd', 'bandunglautanapi', 'washingt0nDC']"
   ],
   "outputs": [],
   "metadata": {}
  },
  {
   "cell_type": "code",
   "execution_count": 49,
   "source": [
    "\r\n",
    "for word in data_list_3:\r\n",
    "    check = False\r\n",
    "        \r\n",
    "    for letter in word:\r\n",
    "        for i in range(10):\r\n",
    "            if letter == str(i):\r\n",
    "                check = True\r\n",
    "            \r\n",
    "    \r\n",
    "    if check == True:\r\n",
    "        print(\"{} memiliki angka\".format(word))\r\n",
    "    else:\r\n",
    "        print(\"ada tidak memiliki angka\")\r\n",
    "            \r\n",
    "        "
   ],
   "outputs": [
    {
     "output_type": "stream",
     "name": "stdout",
     "text": [
      "asda8asd memiliki angka\n",
      "ada tidak memiliki angka\n",
      "washingt0nDC memiliki angka\n"
     ]
    }
   ],
   "metadata": {}
  },
  {
   "cell_type": "markdown",
   "source": [
    "4. keluarkan masing-masing value pada key \"nama\" dan \"nilai\" dari dictionary di dalam list pada sel di bawah. lalu masukkan pada list sehingga satu nama & nilai berada dalam satu list. lalu kumpulkan semua list dalam satu list lainnya."
   ],
   "metadata": {}
  },
  {
   "cell_type": "code",
   "execution_count": 50,
   "source": [
    "#kerjakan soal no.4 pada sel berikut ini\r\n",
    "\r\n",
    "data_dict = [\r\n",
    "    {\r\n",
    "        \"nama\":\"budi\",\r\n",
    "        \"nilai\": {\r\n",
    "            \"matematika\" : 90,\r\n",
    "            \"fisika\" : 86,\r\n",
    "            \"biologi\" : 90\r\n",
    "        }\r\n",
    "    },\r\n",
    "    {\r\n",
    "        \"nama\":\"Nina\",\r\n",
    "        \"nilai\": {\r\n",
    "            \"matematika\" : 87,\r\n",
    "            \"fisika\" : 69,\r\n",
    "            \"biologi\" : 78\r\n",
    "        }\r\n",
    "    },\r\n",
    "    {\r\n",
    "        \"nama\":\"Rudi\",\r\n",
    "        \"nilai\": {\r\n",
    "            \"matematika\" : 88,\r\n",
    "            \"fisika\" : 67,\r\n",
    "            \"biologi\" : 91\r\n",
    "        }\r\n",
    "    }\r\n",
    "]\r\n",
    "\r\n",
    "#hasil yang diharapkan\r\n",
    "#hasil = [[\"budi\",90,86,90],[\"Nina\",87,69,78],[\"Rudi\",88,67,91]]"
   ],
   "outputs": [],
   "metadata": {}
  },
  {
   "cell_type": "code",
   "execution_count": 87,
   "source": [
    "\r\n",
    "data_hasil = []\r\n",
    "for key,value in enumerate(data_dict) :\r\n",
    "    temp = []\r\n",
    "    \r\n",
    "    temp.append(data_dict[key]['nama'])\r\n",
    "    temp.append(data_dict[key]['nilai']['matematika'])\r\n",
    "    temp.append(data_dict[key]['nilai']['fisika'])\r\n",
    "    temp.append(data_dict[key]['nilai']['biologi'])\r\n",
    "    \r\n",
    "    data_hasil.append(temp)\r\n",
    "    \r\n",
    "print(data_hasil)\r\n",
    "\r\n",
    "    "
   ],
   "outputs": [
    {
     "output_type": "stream",
     "name": "stdout",
     "text": [
      "[['budi', 90, 86, 90], ['Nina', 87, 69, 78], ['Rudi', 88, 67, 91]]\n"
     ]
    }
   ],
   "metadata": {}
  }
 ]
}