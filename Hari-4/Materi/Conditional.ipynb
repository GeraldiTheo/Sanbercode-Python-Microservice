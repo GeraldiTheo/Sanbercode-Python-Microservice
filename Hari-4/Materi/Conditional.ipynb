{
 "cells": [
  {
   "cell_type": "markdown",
   "source": [
    "# Conditional"
   ],
   "metadata": {}
  },
  {
   "cell_type": "markdown",
   "source": [
    "### IF"
   ],
   "metadata": {}
  },
  {
   "cell_type": "code",
   "execution_count": 9,
   "source": [
    "# if [pernyataan]:\r\n",
    "    # kode kita\r\n",
    "    \r\n",
    "umur = 18\r\n",
    "\r\n",
    "if umur >= 18:\r\n",
    "    print(\"Sudah boleh memiliki KTP\")\r\n"
   ],
   "outputs": [
    {
     "output_type": "stream",
     "name": "stdout",
     "text": [
      "Sudah boleh memiliki KTP\n"
     ]
    }
   ],
   "metadata": {}
  },
  {
   "cell_type": "markdown",
   "source": [
    "### IF-ELSE"
   ],
   "metadata": {}
  },
  {
   "cell_type": "code",
   "execution_count": 10,
   "source": [
    "umur = 17\r\n",
    "\r\n",
    "if umur >= 18:\r\n",
    "    print(\"Sudah memiliki KTP\")\r\n",
    "else:\r\n",
    "    print(\"Belum dapat memiliki KTP, karena masih berusia dibawah {} tahun\".format(umur))"
   ],
   "outputs": [
    {
     "output_type": "stream",
     "name": "stdout",
     "text": [
      "Belum dapat memiliki KTP, karena masih berusia dibawah 17 tahun\n"
     ]
    }
   ],
   "metadata": {}
  },
  {
   "cell_type": "markdown",
   "source": [
    "### IF-ELIF-ELSE\r\n"
   ],
   "metadata": {}
  },
  {
   "cell_type": "code",
   "execution_count": 11,
   "source": [
    "umur = 17\r\n",
    "\r\n",
    "if umur <= 15:\r\n",
    "    print(\"Anak Anak\")\r\n",
    "elif umur <= 22:\r\n",
    "    print(\"Remaja\")\r\n",
    "elif umur <= 50:\r\n",
    "    print(\"Dewasa\")\r\n",
    "else:\r\n",
    "    print(\"Renta\")"
   ],
   "outputs": [
    {
     "output_type": "stream",
     "name": "stdout",
     "text": [
      "Remaja\n"
     ]
    }
   ],
   "metadata": {}
  },
  {
   "cell_type": "code",
   "execution_count": null,
   "source": [],
   "outputs": [],
   "metadata": {}
  }
 ],
 "metadata": {
  "orig_nbformat": 4,
  "language_info": {
   "name": "python"
  }
 },
 "nbformat": 4,
 "nbformat_minor": 2
}