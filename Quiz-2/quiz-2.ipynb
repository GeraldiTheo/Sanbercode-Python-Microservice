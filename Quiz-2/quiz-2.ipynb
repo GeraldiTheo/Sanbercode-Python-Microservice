{
 "cells": [
  {
   "cell_type": "code",
   "execution_count": 5,
   "source": [
    "# 12\r\n",
    "\r\n",
    "def check(a = 5):\r\n",
    "    print(a)\r\n",
    "    \r\n",
    "check(a=6)\r\n",
    "    \r\n",
    "    "
   ],
   "outputs": [
    {
     "output_type": "stream",
     "name": "stdout",
     "text": [
      "6\n"
     ]
    }
   ],
   "metadata": {}
  },
  {
   "cell_type": "code",
   "execution_count": 9,
   "source": [
    "# 19\r\n",
    "\r\n",
    "def foo(a, *b):\r\n",
    "    print(type(a))\r\n",
    "    print(type(b))\r\n",
    "    print(a)\r\n",
    "    print(b)\r\n",
    "    \r\n",
    "foo([1,'s',(3,5)])"
   ],
   "outputs": [
    {
     "output_type": "stream",
     "name": "stdout",
     "text": [
      "<class 'list'>\n",
      "<class 'tuple'>\n",
      "[1, 's', (3, 5)]\n",
      "()\n"
     ]
    }
   ],
   "metadata": {}
  }
 ],
 "metadata": {
  "orig_nbformat": 4,
  "language_info": {
   "name": "python",
   "version": "3.9.5",
   "mimetype": "text/x-python",
   "codemirror_mode": {
    "name": "ipython",
    "version": 3
   },
   "pygments_lexer": "ipython3",
   "nbconvert_exporter": "python",
   "file_extension": ".py"
  },
  "kernelspec": {
   "name": "python3",
   "display_name": "Python 3.9.5 64-bit ('Sanbercode': virtualenvwrapper)"
  },
  "interpreter": {
   "hash": "0046094cf3e3d8a141ff2147d0240db0358a5fb86146a3667249e3d68c0f5390"
  }
 },
 "nbformat": 4,
 "nbformat_minor": 2
}