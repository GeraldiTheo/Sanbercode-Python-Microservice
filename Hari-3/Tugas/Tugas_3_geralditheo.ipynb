{
 "metadata": {
  "language_info": {
   "codemirror_mode": {
    "name": "ipython",
    "version": 3
   },
   "file_extension": ".py",
   "mimetype": "text/x-python",
   "name": "python",
   "nbconvert_exporter": "python",
   "pygments_lexer": "ipython3",
   "version": "3.8.6-final"
  },
  "orig_nbformat": 2,
  "kernelspec": {
   "name": "python3",
   "display_name": "Python 3.8.6 64-bit ('public_op')",
   "metadata": {
    "interpreter": {
     "hash": "66914c7a76df292d6a0bba50fafa355dedd93b53ceb1028df6ae26adc2894cfa"
    }
   }
  }
 },
 "nbformat": 4,
 "nbformat_minor": 2,
 "cells": [
  {
   "cell_type": "markdown",
   "source": [
    "1. Lakukan 4 operasi aritmatika pada 2 variabel di bawah (tambah, kurang, kali, bagi), lalu simpan semua hasilnya didalam list dan tampilkan.\n",
    "\n",
    "var_1 = 10\n",
    "\n",
    "var_2 = 2"
   ],
   "metadata": {}
  },
  {
   "cell_type": "code",
   "execution_count": 5,
   "source": [
    "#kerjakan soal no 1 pada sel ini\r\n",
    "#keluaran yang diharapkan : [12,8,20,5]\r\n",
    "\r\n",
    "var_1 = 10\r\n",
    "var_2 = 2\r\n",
    "\r\n",
    "list_var = [ var_1 + var_2, var_1 - var_2, var_1 * var_2, int(var_1 / var_2)  ]\r\n",
    "print(list_var)"
   ],
   "outputs": [
    {
     "output_type": "stream",
     "name": "stdout",
     "text": [
      "[12, 8, 20, 5]\n"
     ]
    }
   ],
   "metadata": {}
  },
  {
   "cell_type": "markdown",
   "source": [
    "2. Dengan menggunakan index keluarkan nilai dari dua tuple di bawah\n",
    "\n",
    "a. ('Budi', 'Rani', 'Indah', 'Ilham')\n",
    "\n",
    "b. (20, 18, 22, 27)\n",
    "\n",
    "dari tuple a keluarkan Rani, dan dari tuple B keluarkan 22. lalu tampilkan dengan print()"
   ],
   "metadata": {}
  },
  {
   "cell_type": "code",
   "execution_count": 3,
   "source": [
    "#kerjakan soal no 2 pada sel ini\r\n",
    "#keluaran yang diharapkan: \"Rani adalah mahasiswi yang berusia 22 tahun\"\r\n",
    "\r\n",
    "tuple_a = ('Budi', 'Rani', 'Indah', 'Ilham')\r\n",
    "tuple_b = (20,18,22,27)\r\n",
    "\r\n",
    "print(\"{} adalah mahasiswi yang berusia {} tahun\".format(tuple_a[1], tuple_b[2]))"
   ],
   "outputs": [
    {
     "output_type": "stream",
     "name": "stdout",
     "text": [
      "Rani adalah mahasiswi yang berusia 22 tahun\n"
     ]
    }
   ],
   "metadata": {}
  },
  {
   "cell_type": "markdown",
   "source": [
    "3. Ambil semua value dalam dictionary berikut dan masukkan ke dalam set untuk mengetahui kota mana saja mereka berasal\r\n",
    "\r\n",
    "data_dict = {'Rudi':'bandung', 'Nina':'jakarta', 'Mia':'semarang', 'Indah':'bandung', 'Salman':'surabaya', 'Mikail':'jakarta'}"
   ],
   "metadata": {}
  },
  {
   "cell_type": "code",
   "execution_count": 34,
   "source": [
    "#kerjakan soal no 3 pada sel ini\r\n",
    "#keluaran yang diharapkan: {'bandung','jakarta','semarang','surabaya'}\r\n",
    "data_dict = {\r\n",
    "    'Rudi':'bandung', \r\n",
    "    'Nina':'jakarta', \r\n",
    "    'Mia':'semarang', \r\n",
    "    'Indah':'bandung', \r\n",
    "    'Salman':'surabaya', \r\n",
    "    'Mikail':'jakarta'\r\n",
    "}\r\n",
    "\r\n",
    "data_set = set()\r\n",
    "\r\n",
    "for key,value in data_dict.items():\r\n",
    "    data_set.add(value)\r\n",
    "\r\n",
    "\r\n",
    "print(data_set)\r\n"
   ],
   "outputs": [
    {
     "output_type": "stream",
     "name": "stdout",
     "text": [
      "{'semarang', 'surabaya', 'jakarta', 'bandung'}\n"
     ]
    }
   ],
   "metadata": {}
  }
 ]
}