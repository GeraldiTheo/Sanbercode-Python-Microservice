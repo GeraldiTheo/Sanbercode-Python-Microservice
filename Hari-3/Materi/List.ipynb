{
 "cells": [
  {
   "cell_type": "code",
   "execution_count": 2,
   "source": [
    "# List\r\n",
    "\r\n",
    "# Merupakan tipe / struktur data yang paling sering digunakan\r\n",
    "\r\n",
    "# Empty list\r\n",
    "list_saya = []\r\n",
    "\r\n",
    "# List of Integer\r\n",
    "list_saya = [1,2,3,4]\r\n",
    "\r\n",
    "a = [1,2,3,4]\r\n",
    "b = [1,2,4,3]\r\n",
    "\r\n",
    "print( a == b)\r\n",
    "\r\n",
    "# List of random\r\n",
    "c = [21.42, 'foobar', 3, 4, 'bark', False, 3.143431231]\r\n",
    "\r\n",
    "print(c)"
   ],
   "outputs": [
    {
     "output_type": "stream",
     "name": "stdout",
     "text": [
      "False\n",
      "[21.42, 'foobar', 3, 4, 'bark', False, 3.143431231]\n"
     ]
    }
   ],
   "metadata": {}
  },
  {
   "cell_type": "code",
   "execution_count": 5,
   "source": [
    "# Mengakses List\r\n",
    "alphabet = ['a','b','c','d','e','f','g','h','i','j']\r\n",
    "\r\n",
    "# Akses index\r\n",
    "print(alphabet[1])\r\n",
    "\r\n",
    "print(alphabet[-1])"
   ],
   "outputs": [
    {
     "output_type": "stream",
     "name": "stdout",
     "text": [
      "b\n",
      "j\n"
     ]
    }
   ],
   "metadata": {}
  },
  {
   "cell_type": "code",
   "execution_count": 14,
   "source": [
    "# Memoting dan Menduplikasi List\r\n",
    "\r\n",
    "list_saya = ['s','a','n','b','e','r','c','o','d','e']\r\n",
    "list_baru_1 = list_saya[0:6]\r\n",
    "\r\n",
    "print(list_saya)\r\n",
    "print(list_baru_1)\r\n",
    "\r\n",
    "list_saya = ['s','a','n','b','e','r','c','o','d','e']\r\n",
    "list_baru_2 = list_saya[-4:]\r\n",
    "\r\n",
    "print(list_saya)\r\n",
    "print(list_baru_2)\r\n",
    "\r\n",
    "a = [1,2,3, 'blue', 'green']\r\n",
    "b = a\r\n",
    "\r\n",
    "print(b)\r\n",
    "\r\n",
    "# slice\r\n",
    "\r\n",
    "list_saya = ['s','a','n','b','e','r','c','o','d','e']\r\n",
    "list_salin = list_saya[:]\r\n",
    "\r\n",
    "print(list_salin)\r\n",
    "\r\n"
   ],
   "outputs": [
    {
     "output_type": "stream",
     "name": "stdout",
     "text": [
      "['s', 'a', 'n', 'b', 'e', 'r', 'c', 'o', 'd', 'e']\n",
      "['s', 'a', 'n', 'b', 'e', 'r']\n",
      "['s', 'a', 'n', 'b', 'e', 'r', 'c', 'o', 'd', 'e']\n",
      "['c', 'o', 'd', 'e']\n",
      "[1, 2, 3, 'blue', 'green']\n",
      "['s', 'a', 'n', 'b', 'e', 'r', 'c', 'o', 'd', 'e']\n"
     ]
    }
   ],
   "metadata": {}
  },
  {
   "cell_type": "code",
   "execution_count": 19,
   "source": [
    "# Mengubah dan Menambah List\r\n",
    "\r\n",
    "# Satuan\r\n",
    "list_saya = [1,2,3,4]\r\n",
    "list_saya[2] = 8\r\n",
    "\r\n",
    "print(list_saya)\r\n",
    "\r\n",
    "# Jamak\r\n",
    "list_saya = [1,2,3,4]\r\n",
    "list_saya[1:3] = [7,8]\r\n",
    "\r\n",
    "print(list_saya)\r\n",
    "\r\n",
    "# append\r\n",
    "contoh_list = [1,6,3]\r\n",
    "contoh_list.append(10)\r\n",
    "\r\n",
    "print(contoh_list) \r\n"
   ],
   "outputs": [
    {
     "output_type": "stream",
     "name": "stdout",
     "text": [
      "[1, 2, 8, 4]\n",
      "[1, 7, 8, 4]\n",
      "[1, 6, 3, 10]\n"
     ]
    }
   ],
   "metadata": {}
  },
  {
   "cell_type": "code",
   "execution_count": 30,
   "source": [
    "# Menghapus anggota List\r\n",
    "\r\n",
    "# Deleting List Item\r\n",
    "my_list = ['s','a','n','b','e','r','c','o','d','e']\r\n",
    "\r\n",
    "\r\n",
    "# Delete one item\r\n",
    "del my_list[4]\r\n",
    "\r\n",
    "print(my_list)\r\n",
    "\r\n",
    "# Delete multiple item\r\n",
    "del my_list[2:7]\r\n",
    "\r\n",
    "print(my_list)\r\n",
    "\r\n",
    "# Delete entire list\r\n",
    "del my_list\r\n",
    "\r\n",
    "# print(my_list)\r\n",
    "\r\n",
    "\r\n",
    "my_list = ['s','a','n','b','e','r','c','o','d','e']\r\n",
    "# remove\r\n",
    "my_list.remove('e')\r\n",
    "\r\n",
    "print(my_list)\r\n",
    "\r\n",
    "# pop index\r\n",
    "a = my_list.pop(2)\r\n",
    "\r\n",
    "print(a)\r\n",
    "print(my_list)\r\n",
    "\r\n",
    "# pop\r\n",
    "b = my_list.pop()\r\n",
    "\r\n",
    "print(b)\r\n",
    "print(my_list)\r\n",
    "\r\n",
    "# clear\r\n",
    "my_list.clear()\r\n",
    "\r\n",
    "print(my_list)\r\n"
   ],
   "outputs": [
    {
     "output_type": "stream",
     "name": "stdout",
     "text": [
      "['s', 'a', 'n', 'b', 'r', 'c', 'o', 'd', 'e']\n",
      "['s', 'a', 'd', 'e']\n",
      "['s', 'a', 'n', 'b', 'r', 'c', 'o', 'd', 'e']\n",
      "n\n",
      "['s', 'a', 'b', 'r', 'c', 'o', 'd', 'e']\n",
      "e\n",
      "['s', 'a', 'b', 'r', 'c', 'o', 'd']\n",
      "[]\n"
     ]
    }
   ],
   "metadata": {}
  },
  {
   "cell_type": "code",
   "execution_count": 32,
   "source": [
    "# Multi dimensional List\r\n",
    "\r\n",
    "md_list = []\r\n",
    "\r\n",
    "a = [1,2]\r\n",
    "b = [3,4]\r\n",
    "\r\n",
    "md_list.append(a)\r\n",
    "md_list.append(b)\r\n",
    "\r\n",
    "print(md_list)\r\n",
    "\r\n",
    "# Akses\r\n",
    "print(md_list[0])\r\n",
    "\r\n",
    "print(md_list[0][1])"
   ],
   "outputs": [
    {
     "output_type": "stream",
     "name": "stdout",
     "text": [
      "[[1, 2], [3, 4]]\n",
      "[1, 2]\n",
      "2\n"
     ]
    }
   ],
   "metadata": {}
  }
 ],
 "metadata": {
  "orig_nbformat": 4,
  "language_info": {
   "name": "python"
  }
 },
 "nbformat": 4,
 "nbformat_minor": 2
}