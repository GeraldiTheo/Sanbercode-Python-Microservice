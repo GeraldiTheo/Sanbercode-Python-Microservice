{
 "cells": [
  {
   "cell_type": "code",
   "execution_count": 2,
   "source": [
    "# Tuple\r\n",
    "\r\n",
    "tuple_1 = (1,2,3,4)\r\n",
    "\r\n",
    "a,b,c,d = tuple_1\r\n",
    "\r\n",
    "print(type(a), type(b), type(c), type(d))"
   ],
   "outputs": [
    {
     "output_type": "stream",
     "name": "stdout",
     "text": [
      "<class 'int'> <class 'int'> <class 'int'> <class 'int'>\n"
     ]
    }
   ],
   "metadata": {}
  },
  {
   "cell_type": "code",
   "execution_count": null,
   "source": [
    "tuple_1[1]"
   ],
   "outputs": [],
   "metadata": {}
  },
  {
   "cell_type": "code",
   "execution_count": 3,
   "source": [
    "# Metode\r\n",
    "\r\n",
    "tuple_2 = (1,2,2,3,4)\r\n",
    "\r\n",
    "print( tuple_1.count(2) )\r\n",
    "print( tuple_1.index(2) )\r\n"
   ],
   "outputs": [
    {
     "output_type": "stream",
     "name": "stdout",
     "text": [
      "1\n",
      "1\n"
     ]
    }
   ],
   "metadata": {}
  },
  {
   "cell_type": "code",
   "execution_count": null,
   "source": [],
   "outputs": [],
   "metadata": {}
  }
 ],
 "metadata": {
  "orig_nbformat": 4,
  "language_info": {
   "name": "python"
  }
 },
 "nbformat": 4,
 "nbformat_minor": 2
}