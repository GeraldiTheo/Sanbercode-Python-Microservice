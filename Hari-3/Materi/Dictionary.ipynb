{
 "cells": [
  {
   "cell_type": "code",
   "execution_count": 3,
   "source": [
    "# Dictionary\r\n",
    "\r\n",
    "# kosong\r\n",
    "dict_kosong = {}\r\n",
    "print(dict_kosong)\r\n",
    "\r\n",
    "# key:value\r\n",
    "dict_family = {'ayah': 'daddy'}\r\n",
    "print(dict_family)"
   ],
   "outputs": [
    {
     "output_type": "stream",
     "name": "stdout",
     "text": [
      "{}\n",
      "{'ayah': 'daddy'}\n"
     ]
    }
   ],
   "metadata": {}
  },
  {
   "cell_type": "code",
   "execution_count": 6,
   "source": [
    "# Mengakses\r\n",
    "\r\n",
    "print( dict_family.keys() )\r\n",
    "\r\n",
    "print(dict_family['ayah'])"
   ],
   "outputs": [
    {
     "output_type": "stream",
     "name": "stdout",
     "text": [
      "dict_keys(['ayah'])\n",
      "daddy\n"
     ]
    }
   ],
   "metadata": {}
  },
  {
   "cell_type": "code",
   "execution_count": 9,
   "source": [
    "# Mengubah\r\n",
    "\r\n",
    "dict_family['ayah'] = 'father'\r\n",
    "print(dict_family)\r\n",
    "\r\n",
    "dict_family['ibu'] = 'mother'\r\n",
    "print(dict_family)\r\n",
    "\r\n",
    "anak_1 = {'anak': 'anak_1'}\r\n",
    "anak_2 = {'anak': 'anak_2'}\r\n",
    "\r\n",
    "list_anak = [anak_1, anak_2]\r\n",
    "\r\n",
    "dict_family['anak'] = list_anak\r\n",
    "print(dict_family)"
   ],
   "outputs": [
    {
     "output_type": "stream",
     "name": "stdout",
     "text": [
      "{'ayah': 'father', 'ibu': 'mother', 'anak': [{'anak': 'anak_1'}, {'anak': 'anak_2'}]}\n",
      "{'ayah': 'father', 'ibu': 'mother', 'anak': [{'anak': 'anak_1'}, {'anak': 'anak_2'}]}\n",
      "{'ayah': 'father', 'ibu': 'mother', 'anak': [{'anak': 'anak_1'}, {'anak': 'anak_2'}]}\n"
     ]
    }
   ],
   "metadata": {}
  },
  {
   "cell_type": "code",
   "execution_count": 13,
   "source": [
    "# Menghapus\r\n",
    "pangkat = {1:1, 2: 4, 3:9, 4:16, 5:25}\r\n",
    "\r\n",
    "# pop\r\n",
    "pangkat.pop(4)\r\n",
    "print(pangkat)\r\n",
    "\r\n",
    "# clear\r\n",
    "pangkat.clear()\r\n",
    "print(pangkat)\r\n",
    "\r\n",
    "# del\r\n",
    "del pangkat"
   ],
   "outputs": [
    {
     "output_type": "stream",
     "name": "stdout",
     "text": [
      "{1: 1, 2: 4, 3: 9, 5: 25}\n",
      "{}\n"
     ]
    }
   ],
   "metadata": {}
  },
  {
   "cell_type": "code",
   "execution_count": null,
   "source": [],
   "outputs": [],
   "metadata": {}
  }
 ],
 "metadata": {
  "orig_nbformat": 4,
  "language_info": {
   "name": "python"
  }
 },
 "nbformat": 4,
 "nbformat_minor": 2
}