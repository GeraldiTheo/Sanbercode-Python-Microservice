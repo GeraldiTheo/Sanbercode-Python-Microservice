{
 "cells": [
  {
   "cell_type": "code",
   "execution_count": 4,
   "source": [
    "# Set\r\n",
    "\r\n",
    "set_1 = {4,5,6,2}\r\n",
    "print(set_1)\r\n",
    "\r\n",
    "set_2 = set()\r\n",
    "set_3 = set([2,1,4,3])\r\n",
    "\r\n",
    "print( type(set_2) )\r\n",
    "print( set_3 )"
   ],
   "outputs": [
    {
     "output_type": "stream",
     "name": "stdout",
     "text": [
      "{2, 4, 5, 6}\n",
      "<class 'set'>\n",
      "{1, 2, 3, 4}\n"
     ]
    }
   ],
   "metadata": {}
  },
  {
   "cell_type": "code",
   "execution_count": 6,
   "source": [
    "# Menghapus\r\n",
    "set_1 = {4,5,6,2}\r\n",
    "\r\n",
    "# discard\r\n",
    "set_1.discard(4)\r\n",
    "\r\n",
    "print(set_1)\r\n",
    "\r\n",
    "# remove\r\n",
    "set_1.remove(2)\r\n",
    "\r\n",
    "print(set_1)"
   ],
   "outputs": [
    {
     "output_type": "stream",
     "name": "stdout",
     "text": [
      "{2, 5, 6}\n",
      "{5, 6}\n"
     ]
    }
   ],
   "metadata": {}
  },
  {
   "cell_type": "code",
   "execution_count": 9,
   "source": [
    "# Menambah anggota \r\n",
    "set_4 = {5,4,6,3,2}\r\n",
    "\r\n",
    "# add\r\n",
    "set_4.add(1)\r\n",
    "print(set_4)\r\n",
    "\r\n",
    "# update\r\n",
    "set_4.update([7,8,9])\r\n",
    "print(set_4)\r\n",
    "\r\n"
   ],
   "outputs": [
    {
     "output_type": "stream",
     "name": "stdout",
     "text": [
      "{1, 2, 3, 4, 5, 6}\n",
      "{1, 2, 3, 4, 5, 6, 7, 8, 9}\n"
     ]
    }
   ],
   "metadata": {}
  },
  {
   "cell_type": "code",
   "execution_count": 10,
   "source": [
    "# Operasi pada Set\r\n",
    "set_a = {1,2,3,4}\r\n",
    "set_b = {3,4,5,6}"
   ],
   "outputs": [],
   "metadata": {}
  },
  {
   "cell_type": "code",
   "execution_count": 12,
   "source": [
    "# Union\r\n",
    "\r\n",
    "print(set_a|set_b)\r\n",
    "print(set_a.union(set_b))"
   ],
   "outputs": [
    {
     "output_type": "stream",
     "name": "stdout",
     "text": [
      "{1, 2, 3, 4, 5, 6}\n",
      "{1, 2, 3, 4, 5, 6}\n"
     ]
    }
   ],
   "metadata": {}
  },
  {
   "cell_type": "code",
   "execution_count": 13,
   "source": [
    "# Intersection\r\n",
    "\r\n",
    "print(set_a & set_b)\r\n",
    "print(set_a.intersection(set_b))"
   ],
   "outputs": [
    {
     "output_type": "stream",
     "name": "stdout",
     "text": [
      "{3, 4}\n",
      "{3, 4}\n"
     ]
    }
   ],
   "metadata": {}
  },
  {
   "cell_type": "code",
   "execution_count": 14,
   "source": [
    "# Difference\r\n",
    "\r\n",
    "print(set_a - set_b)\r\n",
    "print(set_a.difference(set_b))"
   ],
   "outputs": [
    {
     "output_type": "stream",
     "name": "stdout",
     "text": [
      "{1, 2}\n",
      "{1, 2}\n"
     ]
    }
   ],
   "metadata": {}
  },
  {
   "cell_type": "code",
   "execution_count": 15,
   "source": [
    "# Symetric Difference\r\n",
    "\r\n",
    "print(set_a ^ set_b)\r\n",
    "print(set_a.symmetric_difference(set_b))"
   ],
   "outputs": [
    {
     "output_type": "stream",
     "name": "stdout",
     "text": [
      "{1, 2, 5, 6}\n",
      "{1, 2, 5, 6}\n"
     ]
    }
   ],
   "metadata": {}
  }
 ],
 "metadata": {
  "orig_nbformat": 4,
  "language_info": {
   "name": "python"
  }
 },
 "nbformat": 4,
 "nbformat_minor": 2
}