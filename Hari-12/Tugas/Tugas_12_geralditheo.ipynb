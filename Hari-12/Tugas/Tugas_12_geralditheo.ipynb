{
 "metadata": {
  "language_info": {
   "codemirror_mode": {
    "name": "ipython",
    "version": 3
   },
   "file_extension": ".py",
   "mimetype": "text/x-python",
   "name": "python",
   "nbconvert_exporter": "python",
   "pygments_lexer": "ipython3",
   "version": "3.9.5"
  },
  "orig_nbformat": 2,
  "kernelspec": {
   "name": "python3",
   "display_name": "Python 3.9.5 64-bit ('Sanbercode': virtualenvwrapper)"
  },
  "interpreter": {
   "hash": "0046094cf3e3d8a141ff2147d0240db0358a5fb86146a3667249e3d68c0f5390"
  }
 },
 "nbformat": 4,
 "nbformat_minor": 2,
 "cells": [
  {
   "cell_type": "code",
   "execution_count": null,
   "source": [],
   "outputs": [],
   "metadata": {}
  },
  {
   "cell_type": "markdown",
   "source": [
    "Buatlah empat fungsi yang belum terisi pada materi hari ini.\n",
    "\n",
    "1. fungsi pertama untuk mencari dan melakukan return semua data\n",
    "\n",
    "2. fungsi kedua adalah untuk mencari dan melakukan return data dengan masukan idnya.\n",
    "\n",
    "3. fungsi untuk mengubah data buku.\n",
    "\n",
    "4. fungsi untuk menghapus buku."
   ],
   "metadata": {}
  },
  {
   "cell_type": "code",
   "execution_count": 1,
   "source": [
    "def showBooks(self):\r\n",
    "    return self.mongo_col.find()"
   ],
   "outputs": [],
   "metadata": {}
  },
  {
   "cell_type": "code",
   "execution_count": null,
   "source": [
    "def showBookById(self):\r\n",
    "    return self.mongo_col.find({'id': key})"
   ],
   "outputs": [],
   "metadata": {}
  },
  {
   "cell_type": "code",
   "execution_count": null,
   "source": [
    "def updateBookById(self):\r\n",
    "    self.mongo_col.update(\r\n",
    "            {'id':key},\r\n",
    "            {\r\n",
    "                'id': key,\r\n",
    "                'nama': update['nama'], \r\n",
    "                'pengarang': update['pengarang'], \r\n",
    "                'tahunterbit': update['tahunterbit'], \r\n",
    "                'genre': update['genre']\r\n",
    "            }\r\n",
    "        )"
   ],
   "outputs": [],
   "metadata": {}
  },
  {
   "cell_type": "code",
   "execution_count": null,
   "source": [
    "def deleteBookById(self):\r\n",
    "    self.mongo_col.remove({'id': key})"
   ],
   "outputs": [],
   "metadata": {}
  }
 ]
}