{
 "metadata": {
  "language_info": {
   "codemirror_mode": {
    "name": "ipython",
    "version": 3
   },
   "file_extension": ".py",
   "mimetype": "text/x-python",
   "name": "python",
   "nbconvert_exporter": "python",
   "pygments_lexer": "ipython3",
   "version": "3.9.5"
  },
  "orig_nbformat": 2,
  "kernelspec": {
   "name": "python3",
   "display_name": "Python 3.9.5 64-bit ('Sanbercode': virtualenvwrapper)"
  },
  "interpreter": {
   "hash": "0046094cf3e3d8a141ff2147d0240db0358a5fb86146a3667249e3d68c0f5390"
  }
 },
 "nbformat": 4,
 "nbformat_minor": 2,
 "cells": [
  {
   "cell_type": "markdown",
   "source": [
    "Buatlah dua fungsi yang belum terisi pada materi hari ini.\n",
    "\n",
    "1. fungsi pertama untuk mencari dan melakukan return semua data\n",
    "\n",
    "2. fungsi kedua adalah untuk mencari dan melakukan return data dengan masukan idnya. Untuk fungsi ini struktur data yang menjadi input fungsi sama dengan saat akan melakukan penghapusan."
   ],
   "metadata": {}
  },
  {
   "cell_type": "code",
   "execution_count": 13,
   "source": [
    "from mysql.connector import connect\r\n",
    "\r\n",
    "db = connect(\r\n",
    "    host = 'localhost',\r\n",
    "    user = 'geraldi',\r\n",
    "    password = 'geraldi',\r\n",
    "    database = 'perpustakaan'\r\n",
    ")\r\n",
    "\r\n",
    "print(db)"
   ],
   "outputs": [
    {
     "output_type": "stream",
     "name": "stdout",
     "text": [
      "<mysql.connector.connection.MySQLConnection object at 0x0000026479A59EB0>\n"
     ]
    }
   ],
   "metadata": {}
  },
  {
   "cell_type": "code",
   "execution_count": 15,
   "source": [
    "def showUsers():\r\n",
    "    cursor = db.cursor()\r\n",
    "    \r\n",
    "    query = \"SELECT * FROM customers\"\r\n",
    "    \r\n",
    "    cursor.execute(query)\r\n",
    "    \r\n",
    "    data = cursor.fetchall()\r\n",
    "    \r\n",
    "    return data\r\n",
    "    "
   ],
   "outputs": [],
   "metadata": {}
  },
  {
   "cell_type": "code",
   "execution_count": 16,
   "source": [
    "data = showUsers()\r\n",
    "print(data)"
   ],
   "outputs": [
    {
     "output_type": "stream",
     "name": "stdout",
     "text": [
      "[(1, 'userpertama', 'rudi', 'pertest', 'rudi.pertest@gmail.com'), (2, 'userkedua', 'shiroe', 'ishigami', 'shiroe.ishigami@gmail.com'), (3, 'userketiga', 'akatsuki', 'horizon', 'akatsuki.horizon@gmail.com')]\n"
     ]
    }
   ],
   "metadata": {}
  },
  {
   "cell_type": "code",
   "execution_count": 26,
   "source": [
    "def showUserById(id):\r\n",
    "    query = \" SELECT * FROM customers WHERE userid = {} \".format(id)\r\n",
    "    \r\n",
    "    cursor = db.cursor()\r\n",
    "    cursor.execute(query)\r\n",
    "    \r\n",
    "    data = cursor.fetchall()\r\n",
    "    \r\n",
    "    return(data)\r\n",
    "    "
   ],
   "outputs": [],
   "metadata": {}
  },
  {
   "cell_type": "code",
   "execution_count": 28,
   "source": [
    "data = showUserById(2)\r\n",
    "print(data)"
   ],
   "outputs": [
    {
     "output_type": "stream",
     "name": "stdout",
     "text": [
      "[(2, 'userkedua', 'shiroe', 'ishigami', 'shiroe.ishigami@gmail.com')]\n"
     ]
    }
   ],
   "metadata": {}
  },
  {
   "cell_type": "code",
   "execution_count": 9,
   "source": [
    "def showUsers(self):\r\n",
    "    pass"
   ],
   "outputs": [],
   "metadata": {}
  },
  {
   "cell_type": "code",
   "execution_count": 10,
   "source": [
    "def showUserById(self):\r\n",
    "    pass"
   ],
   "outputs": [],
   "metadata": {}
  },
  {
   "cell_type": "code",
   "execution_count": 64,
   "source": [
    "a = {\r\n",
    "\"params\":[\r\n",
    "        {\r\n",
    "            \"userid\": 8\r\n",
    "        }\r\n",
    "    ]\r\n",
    "}\r\n",
    "\r\n",
    "for param in a['params']:\r\n",
    "    checkParams(**param)\r\n",
    "\r\n",
    "def checkParams(**data):\r\n",
    "    print(data)\r\n",
    "    \r\n",
    "\r\n",
    "# a['params'][0]\r\n"
   ],
   "outputs": [
    {
     "output_type": "stream",
     "name": "stdout",
     "text": [
      "{'userid': 8}\n"
     ]
    }
   ],
   "metadata": {}
  }
 ]
}