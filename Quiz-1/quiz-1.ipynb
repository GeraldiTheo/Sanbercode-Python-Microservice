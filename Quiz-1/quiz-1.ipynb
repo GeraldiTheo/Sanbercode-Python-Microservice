{
 "cells": [
  {
   "cell_type": "code",
   "execution_count": 2,
   "source": [
    "# QUIZ"
   ],
   "outputs": [],
   "metadata": {}
  },
  {
   "cell_type": "code",
   "execution_count": 3,
   "source": [
    "# 1\r\n",
    "print( (1,2) + (3,4) )"
   ],
   "outputs": [
    {
     "output_type": "stream",
     "name": "stdout",
     "text": [
      "(1, 2, 3, 4)\n"
     ]
    }
   ],
   "metadata": {}
  },
  {
   "cell_type": "code",
   "execution_count": 4,
   "source": [
    "# 2\r\n",
    "# mendeklarasikan nilai 100 pada variabel x\r\n",
    "\r\n",
    "x = 100\r\n"
   ],
   "outputs": [],
   "metadata": {}
  },
  {
   "cell_type": "code",
   "execution_count": 7,
   "source": [
    "# 3\r\n",
    "# Pada python, sebuah variabel harus dideklarasikan sebelum dapat diberikan nila\r\n",
    "\r\n",
    "False"
   ],
   "outputs": [
    {
     "output_type": "execute_result",
     "data": {
      "text/plain": [
       "False"
      ]
     },
     "metadata": {},
     "execution_count": 7
    }
   ],
   "metadata": {}
  },
  {
   "cell_type": "code",
   "execution_count": 10,
   "source": [
    "# 4\r\n",
    "# Manakah operator perhitungan yang tidak valid pada python\r\n",
    "\r\n",
    "print( 1 * 2 )\r\n",
    "print( 1 ** 2 )\r\n",
    "print( 1 \\ 2 )\r\n",
    "print( 1 % 2 )"
   ],
   "outputs": [
    {
     "output_type": "error",
     "ename": "SyntaxError",
     "evalue": "unexpected character after line continuation character (Temp/ipykernel_14032/2170380938.py, line 6)",
     "traceback": [
      "\u001b[1;36m  File \u001b[1;32m\"C:\\Users\\geral\\AppData\\Local\\Temp/ipykernel_14032/2170380938.py\"\u001b[1;36m, line \u001b[1;32m6\u001b[0m\n\u001b[1;33m    print( 1 \\ 2 )\u001b[0m\n\u001b[1;37m                 ^\u001b[0m\n\u001b[1;31mSyntaxError\u001b[0m\u001b[1;31m:\u001b[0m unexpected character after line continuation character\n"
     ]
    }
   ],
   "metadata": {}
  },
  {
   "cell_type": "code",
   "execution_count": 11,
   "source": [
    "# 5\r\n",
    "# Untuk melakukan pengulangan dengan jumlah yang tentu maka menggunakan\r\n",
    "\r\n",
    "for i in range(10):\r\n",
    "    print(i)"
   ],
   "outputs": [
    {
     "output_type": "stream",
     "name": "stdout",
     "text": [
      "0\n",
      "1\n",
      "2\n",
      "3\n",
      "4\n",
      "5\n",
      "6\n",
      "7\n",
      "8\n",
      "9\n"
     ]
    }
   ],
   "metadata": {}
  },
  {
   "cell_type": "code",
   "execution_count": 15,
   "source": [
    "# 6\r\n",
    "if (1,2): \r\n",
    "print(\"foo\")"
   ],
   "outputs": [
    {
     "output_type": "error",
     "ename": "IndentationError",
     "evalue": "expected an indented block (Temp/ipykernel_14032/3845030436.py, line 3)",
     "traceback": [
      "\u001b[1;36m  File \u001b[1;32m\"C:\\Users\\geral\\AppData\\Local\\Temp/ipykernel_14032/3845030436.py\"\u001b[1;36m, line \u001b[1;32m3\u001b[0m\n\u001b[1;33m    print(\"foo\")\u001b[0m\n\u001b[1;37m    ^\u001b[0m\n\u001b[1;31mIndentationError\u001b[0m\u001b[1;31m:\u001b[0m expected an indented block\n"
     ]
    }
   ],
   "metadata": {}
  },
  {
   "cell_type": "code",
   "execution_count": 17,
   "source": [
    "# 7\r\n",
    "# Pada python tipe data integer dapat didefinisikan sebagai\r\n",
    "\r\n",
    "# bulat\r\n"
   ],
   "outputs": [],
   "metadata": {}
  },
  {
   "cell_type": "code",
   "execution_count": 23,
   "source": [
    "# 8\r\n",
    "# Misalkan sebuah tuple dengan nama test memiliki 5 anggota. Bagaimana kita memasukkan 'python' sebagai anggota pada index ke-3\r\n",
    "\r\n",
    "\r\n",
    "test = (1,2,3,4,5)\r\n",
    "test[3] = 'Python'"
   ],
   "outputs": [
    {
     "output_type": "error",
     "ename": "TypeError",
     "evalue": "'tuple' object does not support item assignment",
     "traceback": [
      "\u001b[1;31m---------------------------------------------------------------------------\u001b[0m",
      "\u001b[1;31mTypeError\u001b[0m                                 Traceback (most recent call last)",
      "\u001b[1;32m~\\AppData\\Local\\Temp/ipykernel_14032/4285498843.py\u001b[0m in \u001b[0;36m<module>\u001b[1;34m\u001b[0m\n\u001b[0;32m      4\u001b[0m \u001b[1;33m\u001b[0m\u001b[0m\n\u001b[0;32m      5\u001b[0m \u001b[0mtest\u001b[0m \u001b[1;33m=\u001b[0m \u001b[1;33m(\u001b[0m\u001b[1;36m1\u001b[0m\u001b[1;33m,\u001b[0m\u001b[1;36m2\u001b[0m\u001b[1;33m,\u001b[0m\u001b[1;36m3\u001b[0m\u001b[1;33m,\u001b[0m\u001b[1;36m4\u001b[0m\u001b[1;33m,\u001b[0m\u001b[1;36m5\u001b[0m\u001b[1;33m)\u001b[0m\u001b[1;33m\u001b[0m\u001b[1;33m\u001b[0m\u001b[0m\n\u001b[1;32m----> 6\u001b[1;33m \u001b[0mtest\u001b[0m\u001b[1;33m[\u001b[0m\u001b[1;36m3\u001b[0m\u001b[1;33m]\u001b[0m \u001b[1;33m=\u001b[0m \u001b[1;34m'Python'\u001b[0m\u001b[1;33m\u001b[0m\u001b[1;33m\u001b[0m\u001b[0m\n\u001b[0m",
      "\u001b[1;31mTypeError\u001b[0m: 'tuple' object does not support item assignment"
     ]
    }
   ],
   "metadata": {}
  },
  {
   "cell_type": "code",
   "execution_count": 24,
   "source": [
    "# 9\r\n",
    "\r\n",
    "# Tipe data apa yang dipakai untuk menyimpan data nomer telepon (menggunakan angka bukan kode negara [+62])\r\n",
    "\r\n",
    "# string"
   ],
   "outputs": [],
   "metadata": {}
  },
  {
   "cell_type": "code",
   "execution_count": 32,
   "source": [
    "# 10\r\n",
    "\r\n",
    "s = 'foobar'\r\n",
    "# nilai yang berbeda\r\n",
    "\r\n",
    "# a\r\n",
    "print(s[::-1][-1]  + s[len(s)-1])\r\n",
    "\r\n",
    "# b\r\n",
    "print(s[::-1][::-5])\r\n",
    "\r\n",
    "# c\r\n",
    "print(s[::-5])\r\n",
    "\r\n",
    "# d\r\n",
    "print(s[::5])"
   ],
   "outputs": [
    {
     "output_type": "stream",
     "name": "stdout",
     "text": [
      "fr\n",
      "fr\n",
      "rf\n",
      "fr\n"
     ]
    }
   ],
   "metadata": {}
  },
  {
   "cell_type": "code",
   "execution_count": 37,
   "source": [
    "# 11\r\n",
    "if 'bar' in {'foo': 1, 'bar': 2, 'baz':3}:\r\n",
    "    print(1)\r\n",
    "    print(2)\r\n",
    "    \r\n",
    "    if 'a' in 'qux':\r\n",
    "        print(3)\r\n",
    "    \r\n",
    "print(4)"
   ],
   "outputs": [
    {
     "output_type": "stream",
     "name": "stdout",
     "text": [
      "1\n",
      "2\n",
      "4\n"
     ]
    }
   ],
   "metadata": {}
  },
  {
   "cell_type": "code",
   "execution_count": 46,
   "source": [
    "# 12\r\n",
    "\r\n",
    "s = 0\r\n",
    "\r\n",
    "for d in range(0, 5, 0.1 ):\r\n",
    "    s += d\r\n",
    "    \r\n",
    "print(s)"
   ],
   "outputs": [
    {
     "output_type": "error",
     "ename": "TypeError",
     "evalue": "'float' object cannot be interpreted as an integer",
     "traceback": [
      "\u001b[1;31m---------------------------------------------------------------------------\u001b[0m",
      "\u001b[1;31mTypeError\u001b[0m                                 Traceback (most recent call last)",
      "\u001b[1;32m~\\AppData\\Local\\Temp/ipykernel_14032/953666181.py\u001b[0m in \u001b[0;36m<module>\u001b[1;34m\u001b[0m\n\u001b[0;32m      3\u001b[0m \u001b[0ms\u001b[0m \u001b[1;33m=\u001b[0m \u001b[1;36m0\u001b[0m\u001b[1;33m\u001b[0m\u001b[1;33m\u001b[0m\u001b[0m\n\u001b[0;32m      4\u001b[0m \u001b[1;33m\u001b[0m\u001b[0m\n\u001b[1;32m----> 5\u001b[1;33m \u001b[1;32mfor\u001b[0m \u001b[0md\u001b[0m \u001b[1;32min\u001b[0m \u001b[0mrange\u001b[0m\u001b[1;33m(\u001b[0m\u001b[1;36m0\u001b[0m\u001b[1;33m,\u001b[0m \u001b[1;36m5\u001b[0m\u001b[1;33m,\u001b[0m \u001b[1;36m0.1\u001b[0m \u001b[1;33m)\u001b[0m\u001b[1;33m:\u001b[0m\u001b[1;33m\u001b[0m\u001b[1;33m\u001b[0m\u001b[0m\n\u001b[0m\u001b[0;32m      6\u001b[0m     \u001b[0ms\u001b[0m \u001b[1;33m+=\u001b[0m \u001b[0md\u001b[0m\u001b[1;33m\u001b[0m\u001b[1;33m\u001b[0m\u001b[0m\n\u001b[0;32m      7\u001b[0m \u001b[1;33m\u001b[0m\u001b[0m\n",
      "\u001b[1;31mTypeError\u001b[0m: 'float' object cannot be interpreted as an integer"
     ]
    }
   ],
   "metadata": {}
  },
  {
   "cell_type": "code",
   "execution_count": 48,
   "source": [
    "# 13\r\n",
    "for num in range(1,6):\r\n",
    "    print('Sanber')\r\n"
   ],
   "outputs": [
    {
     "output_type": "stream",
     "name": "stdout",
     "text": [
      "Sanber\n",
      "Sanber\n",
      "Sanber\n",
      "Sanber\n",
      "Sanber\n"
     ]
    }
   ],
   "metadata": {}
  },
  {
   "cell_type": "code",
   "execution_count": 50,
   "source": [
    "# 14\r\n",
    "\r\n",
    "num =14\r\n",
    "\r\n",
    "if num < 15:\r\n",
    "    print(15)\r\n",
    "    \r\n",
    "if num < 20:\r\n",
    "    print(20)"
   ],
   "outputs": [
    {
     "output_type": "stream",
     "name": "stdout",
     "text": [
      "15\n",
      "20\n"
     ]
    }
   ],
   "metadata": {}
  },
  {
   "cell_type": "code",
   "execution_count": 55,
   "source": [
    "# 15\r\n",
    "language = ['p','y','t','h','o','n']\r\n",
    "print(language[:-4])"
   ],
   "outputs": [
    {
     "output_type": "stream",
     "name": "stdout",
     "text": [
      "['p', 'y']\n"
     ]
    }
   ],
   "metadata": {}
  },
  {
   "cell_type": "code",
   "execution_count": 58,
   "source": [
    "# 16\r\n",
    "s = 'this'\r\n",
    "print(s * 2)"
   ],
   "outputs": [
    {
     "output_type": "stream",
     "name": "stdout",
     "text": [
      "thisthis\n"
     ]
    }
   ],
   "metadata": {}
  },
  {
   "cell_type": "code",
   "execution_count": 59,
   "source": [
    "# 17\r\n",
    "\r\n",
    "m = 300\r\n",
    "n = m\r\n",
    "m = m - 30\r\n",
    "\r\n",
    "print(n)"
   ],
   "outputs": [
    {
     "output_type": "stream",
     "name": "stdout",
     "text": [
      "300\n"
     ]
    }
   ],
   "metadata": {}
  },
  {
   "cell_type": "code",
   "execution_count": 63,
   "source": [
    "# 18\r\n",
    "\r\n",
    "# Bagaimana kamu akan mengubah\r\n",
    "# num = {‘one’: 1, ‘two’: 3}\r\n",
    "# menjadi\r\n",
    "# num = {‘one’: 1, ‘two’: 2}\r\n",
    "\r\n",
    "num = {'one': 1, 'two': 3}\r\n",
    "num['two'] = 2\r\n",
    "\r\n",
    "num"
   ],
   "outputs": [
    {
     "output_type": "execute_result",
     "data": {
      "text/plain": [
       "{'one': 1, 'two': 2}"
      ]
     },
     "metadata": {},
     "execution_count": 63
    }
   ],
   "metadata": {}
  },
  {
   "cell_type": "code",
   "execution_count": 65,
   "source": [
    "# 19\r\n",
    "\r\n",
    "# jumlahkaryawan = 431\r\n",
    "# jumlahKaryawan = 431\r\n",
    "# Apakah dua pernyataan tersebut mengarah pada variabel yang sama?\r\n",
    "\r\n",
    "jumlahkaryawan = 431\r\n",
    "jumlahKaryawan = 431\r\n",
    "\r\n",
    "False"
   ],
   "outputs": [
    {
     "output_type": "execute_result",
     "data": {
      "text/plain": [
       "False"
      ]
     },
     "metadata": {},
     "execution_count": 65
    }
   ],
   "metadata": {}
  },
  {
   "cell_type": "code",
   "execution_count": 68,
   "source": [
    "# 20\r\n",
    "\r\n",
    "# Mana yang merupakan variabel yang valid pada python\r\n",
    "\r\n",
    "route666 = ''"
   ],
   "outputs": [],
   "metadata": {}
  },
  {
   "cell_type": "code",
   "execution_count": 77,
   "source": [
    "# 21\r\n",
    "\r\n",
    "# Pernyataan mana yang digunakan untuk mengecek jika nilai a sama dengan nilai b\r\n",
    "\r\n",
    "a = 1\r\n",
    "b = 2\r\n",
    "\r\n",
    "if a == b:\r\n",
    "    pass"
   ],
   "outputs": [],
   "metadata": {}
  },
  {
   "cell_type": "code",
   "execution_count": 83,
   "source": [
    "# 22\r\n",
    "# Mana yang tidak termasuk metode pada string\r\n",
    "\r\n",
    "thisIsString = 'string'\r\n",
    "\r\n",
    "thisIsString.isalpha()\r\n",
    "thisIsString.isdigit()\r\n",
    "# thisIsString.translate(1)\r\n",
    "# thisIsString.maketrans()"
   ],
   "outputs": [
    {
     "output_type": "execute_result",
     "data": {
      "text/plain": [
       "False"
      ]
     },
     "metadata": {},
     "execution_count": 83
    }
   ],
   "metadata": {}
  },
  {
   "cell_type": "code",
   "execution_count": 87,
   "source": [
    "# 23\r\n",
    "\r\n",
    "names = \"{1} {2} and {0}\".format('John', 'Bill', 'Sean')\r\n",
    "names"
   ],
   "outputs": [
    {
     "output_type": "execute_result",
     "data": {
      "text/plain": [
       "'Bill Sean and John'"
      ]
     },
     "metadata": {},
     "execution_count": 87
    }
   ],
   "metadata": {}
  },
  {
   "cell_type": "code",
   "execution_count": 89,
   "source": [
    "# 24\r\n",
    "d = {\r\n",
    "    'foo': 1,\r\n",
    "    'bar': 2,\r\n",
    "    'baz': 3\r\n",
    "}\r\n",
    "\r\n",
    "while d :\r\n",
    "    print(d.popitem())\r\n",
    "    \r\n",
    "print(\"Done\")"
   ],
   "outputs": [
    {
     "output_type": "stream",
     "name": "stdout",
     "text": [
      "('baz', 3)\n",
      "('bar', 2)\n",
      "('foo', 1)\n",
      "Done\n"
     ]
    }
   ],
   "metadata": {}
  },
  {
   "cell_type": "code",
   "execution_count": null,
   "source": [
    "# 25\r\n",
    "\r\n",
    "# Pada python tipe data float dapat didefinisikan sebagai\r\n",
    "\r\n",
    "# bilangan dengan koma"
   ],
   "outputs": [],
   "metadata": {}
  }
 ],
 "metadata": {
  "orig_nbformat": 4,
  "language_info": {
   "name": "python"
  }
 },
 "nbformat": 4,
 "nbformat_minor": 2
}