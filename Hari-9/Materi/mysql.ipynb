{
 "cells": [
  {
   "cell_type": "code",
   "execution_count": 1,
   "source": [
    "# Persiapan Database\r\n",
    "\r\n",
    "# mysql -u root -p Password123456"
   ],
   "outputs": [],
   "metadata": {}
  },
  {
   "cell_type": "code",
   "execution_count": 2,
   "source": [
    "# Membuat Database\r\n",
    "\r\n",
    "# CREATE DATABASE RENTALFILM;"
   ],
   "outputs": [],
   "metadata": {}
  },
  {
   "cell_type": "code",
   "execution_count": 3,
   "source": [
    "# Melihat Database\r\n",
    "\r\n",
    "# SHOW DATABASES;"
   ],
   "outputs": [],
   "metadata": {}
  },
  {
   "cell_type": "code",
   "execution_count": 4,
   "source": [
    "# Menggunakan Database\r\n",
    "\r\n",
    "# USE RENTALFILM"
   ],
   "outputs": [],
   "metadata": {}
  },
  {
   "cell_type": "code",
   "execution_count": 5,
   "source": [
    "# Membuat Table\r\n",
    "\r\n",
    "# CREATE TABLE customers (\r\n",
    "#     id int auto_increment primary key,\r\n",
    "#     namaid varchar(255) not null,\r\n",
    "#     namalengkap varchar(255) not null,\r\n",
    "#     email varchar(255) not null,\r\n",
    "    \r\n",
    "#     unique (namaid, email)\r\n",
    "# );"
   ],
   "outputs": [],
   "metadata": {}
  },
  {
   "cell_type": "code",
   "execution_count": null,
   "source": [
    "# Mengetahui Table\r\n",
    "\r\n",
    "# DESCRIBE customers"
   ],
   "outputs": [],
   "metadata": {}
  }
 ],
 "metadata": {
  "orig_nbformat": 4,
  "language_info": {
   "name": "python",
   "version": "3.9.5",
   "mimetype": "text/x-python",
   "codemirror_mode": {
    "name": "ipython",
    "version": 3
   },
   "pygments_lexer": "ipython3",
   "nbconvert_exporter": "python",
   "file_extension": ".py"
  },
  "kernelspec": {
   "name": "python3",
   "display_name": "Python 3.9.5 64-bit ('Sanbercode': virtualenvwrapper)"
  },
  "interpreter": {
   "hash": "0046094cf3e3d8a141ff2147d0240db0358a5fb86146a3667249e3d68c0f5390"
  }
 },
 "nbformat": 4,
 "nbformat_minor": 2
}