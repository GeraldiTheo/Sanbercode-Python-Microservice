{
 "cells": [
  {
   "cell_type": "code",
   "execution_count": 4,
   "source": [
    "import mysql.connector\r\n",
    "from mysql.connector import Error"
   ],
   "outputs": [],
   "metadata": {}
  },
  {
   "cell_type": "code",
   "execution_count": 5,
   "source": [
    "def connect():\r\n",
    "    \"\"\" Connect To mysql Databases \"\"\"\r\n",
    "    \r\n",
    "    conn = None\r\n",
    "    \r\n",
    "    try:\r\n",
    "        conn = mysql.connector.connect(\r\n",
    "            host='localhost',\r\n",
    "            database='python_mysql',\r\n",
    "            user='geraldi',\r\n",
    "            password='geraldi'\r\n",
    "        )\r\n",
    "        \r\n",
    "        if conn.is_connected():\r\n",
    "            print(\"Connected to mysql database\")\r\n",
    "    \r\n",
    "    except Error as e :\r\n",
    "        print(e)\r\n",
    "        \r\n",
    "    finally:\r\n",
    "        if conn is not None and conn.is_connected():\r\n",
    "            conn.close()"
   ],
   "outputs": [],
   "metadata": {}
  },
  {
   "cell_type": "code",
   "execution_count": 8,
   "source": [
    "from mysql.connector import MySQLConnection, Error\r\n",
    "from python_mysql_dbconfig import read_db_config"
   ],
   "outputs": [
    {
     "output_type": "error",
     "ename": "ModuleNotFoundError",
     "evalue": "No module named 'python_mysql_dbconfig'",
     "traceback": [
      "\u001b[1;31m---------------------------------------------------------------------------\u001b[0m",
      "\u001b[1;31mModuleNotFoundError\u001b[0m                       Traceback (most recent call last)",
      "\u001b[1;32m~\\AppData\\Local\\Temp/ipykernel_12584/2643074400.py\u001b[0m in \u001b[0;36m<module>\u001b[1;34m\u001b[0m\n\u001b[0;32m      1\u001b[0m \u001b[1;32mfrom\u001b[0m \u001b[0mmysql\u001b[0m\u001b[1;33m.\u001b[0m\u001b[0mconnector\u001b[0m \u001b[1;32mimport\u001b[0m \u001b[0mMySQLConnection\u001b[0m\u001b[1;33m,\u001b[0m \u001b[0mError\u001b[0m\u001b[1;33m\u001b[0m\u001b[1;33m\u001b[0m\u001b[0m\n\u001b[1;32m----> 2\u001b[1;33m \u001b[1;32mfrom\u001b[0m \u001b[0mpython_mysql_dbconfig\u001b[0m \u001b[1;32mimport\u001b[0m \u001b[0mread_db_config\u001b[0m\u001b[1;33m\u001b[0m\u001b[1;33m\u001b[0m\u001b[0m\n\u001b[0m",
      "\u001b[1;31mModuleNotFoundError\u001b[0m: No module named 'python_mysql_dbconfig'"
     ]
    }
   ],
   "metadata": {}
  },
  {
   "cell_type": "code",
   "execution_count": null,
   "source": [
    "def query_with_fetchone():\r\n",
    "    try:\r\n",
    "        dbconfig = read_db_config()\r\n",
    "        conn = MySQLConnection(**dbconfig)\r\n",
    "        cursor = conn.cursor()\r\n",
    "        cursor.execute(\"SELECT * FROM books\")\r\n",
    "\r\n",
    "        row = cursor.fetchone()\r\n",
    "\r\n",
    "        while row is not None:\r\n",
    "            print(row)\r\n",
    "            row = cursor.fetchone()\r\n",
    "\r\n",
    "    except Error as e:\r\n",
    "        print(e)\r\n",
    "\r\n",
    "    finally:\r\n",
    "        cursor.close()\r\n",
    "        conn.close()"
   ],
   "outputs": [],
   "metadata": {}
  },
  {
   "cell_type": "code",
   "execution_count": 7,
   "source": [
    "if __name__ == '__main__':\r\n",
    "    connect()"
   ],
   "outputs": [
    {
     "output_type": "stream",
     "name": "stdout",
     "text": [
      "Connected to mysql database\n"
     ]
    }
   ],
   "metadata": {}
  }
 ],
 "metadata": {
  "orig_nbformat": 4,
  "language_info": {
   "name": "python",
   "version": "3.9.5",
   "mimetype": "text/x-python",
   "codemirror_mode": {
    "name": "ipython",
    "version": 3
   },
   "pygments_lexer": "ipython3",
   "nbconvert_exporter": "python",
   "file_extension": ".py"
  },
  "kernelspec": {
   "name": "python3",
   "display_name": "Python 3.9.5 64-bit ('Sanbercode': virtualenvwrapper)"
  },
  "interpreter": {
   "hash": "0046094cf3e3d8a141ff2147d0240db0358a5fb86146a3667249e3d68c0f5390"
  }
 },
 "nbformat": 4,
 "nbformat_minor": 2
}