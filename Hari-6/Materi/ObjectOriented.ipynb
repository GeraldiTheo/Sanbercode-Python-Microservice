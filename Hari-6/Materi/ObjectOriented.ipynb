{
 "cells": [
  {
   "cell_type": "code",
   "execution_count": 4,
   "source": [
    "# Mendefinisikan Class\r\n",
    "\r\n",
    "class Mobil:\r\n",
    "    pass\r\n",
    "\r\n",
    "mobil1 = Mobil()\r\n",
    "mobil2 = Mobil()\r\n",
    "\r\n",
    "mobil1.jenis = 'Sedan'\r\n",
    "mobil1.warna = 'Merah'\r\n",
    "\r\n",
    "mobil2.jenis = 'SUV'\r\n",
    "mobil2.warna = 'Hitam'\r\n",
    "\r\n",
    "print(mobil1)\r\n",
    "print(mobil1.jenis)\r\n",
    "print(mobil1.__dict__)"
   ],
   "outputs": [
    {
     "output_type": "stream",
     "name": "stdout",
     "text": [
      "<__main__.Mobil object at 0x000001B1C8D95DC0>\n",
      "Sedan\n",
      "{'jenis': 'Sedan', 'warna': 'Merah'}\n"
     ]
    }
   ],
   "metadata": {}
  },
  {
   "cell_type": "code",
   "execution_count": 6,
   "source": [
    "# Mendefiniskan Metode\r\n",
    "\r\n",
    "class Mobil:\r\n",
    "    \r\n",
    "    def __init__(self, jenis, warna):\r\n",
    "        self.jenis = jenis\r\n",
    "        self.warna = warna\r\n",
    "        \r\n",
    "mobil1 = Mobil('Sedan', 'Merah')\r\n",
    "mobil2 = Mobil('SUV', 'Hitam')\r\n",
    "\r\n",
    "print(mobil1.__dict__)\r\n",
    "print(mobil2.__dict__)"
   ],
   "outputs": [
    {
     "output_type": "stream",
     "name": "stdout",
     "text": [
      "{'jenis': 'Sedan', 'warna': 'Merah'}\n",
      "{'jenis': 'SUV', 'warna': 'Hitam'}\n"
     ]
    }
   ],
   "metadata": {}
  },
  {
   "cell_type": "code",
   "execution_count": 7,
   "source": [
    "# Attribute Class vs Attribute Object\r\n",
    "\r\n",
    "class Mobil:\r\n",
    "    benda = 'Mobil'\r\n",
    "    \r\n",
    "    def __init__(self, jenis, warna):\r\n",
    "        self.jenis = jenis\r\n",
    "        self.warna = warna\r\n",
    "        \r\n",
    "mobil1 = Mobil(\"Sedan\", \"Merah\")\r\n",
    "mobil2 = Mobil(\"SUV\", \"Hitam\")\r\n",
    "\r\n",
    "print(mobil1.benda)\r\n",
    "print(mobil2.benda)"
   ],
   "outputs": [
    {
     "output_type": "stream",
     "name": "stdout",
     "text": [
      "Mobil\n",
      "Mobil\n"
     ]
    }
   ],
   "metadata": {}
  },
  {
   "cell_type": "code",
   "execution_count": 9,
   "source": [
    "# Metode Object\r\n",
    "\r\n",
    "class Mobil:\r\n",
    "    benda = 'Mobil'\r\n",
    "    \r\n",
    "    def __init__(self, jenis, warna, tangki):\r\n",
    "        self.jenis = jenis\r\n",
    "        self.warna = warna\r\n",
    "        self.tangki = tangki\r\n",
    "        \r\n",
    "    def data_mobil(self):\r\n",
    "        print('Mobil saya berjenis {}, dan memiliki warna {}, serta memiliki ukuran tangki {} L'.format(self.jenis, self.warna, self.tangki))\r\n",
    "        \r\n",
    "\r\n",
    "mobil1 = Mobil(\"Sedan\", \"Merah\", 40)\r\n",
    "\r\n",
    "mobil1.data_mobil()"
   ],
   "outputs": [
    {
     "output_type": "stream",
     "name": "stdout",
     "text": [
      "Mobil saya berjenis Sedan, dan memiliki warna Merah, serta memiliki ukuran tangki 40 L\n"
     ]
    }
   ],
   "metadata": {}
  },
  {
   "cell_type": "code",
   "execution_count": 16,
   "source": [
    "class Mobil:\r\n",
    "    benda = 'Mobil'\r\n",
    "    \r\n",
    "    def __init__(self, jenis, warna, tangki, efisiensi):\r\n",
    "        self.jenis = jenis\r\n",
    "        self.warna = warna\r\n",
    "        self.tangki = tangki\r\n",
    "        self.efisiensi = efisiensi\r\n",
    "        \r\n",
    "    def sisa_bensin(self, jarak):\r\n",
    "        sisa = self.tangki - ( (jarak/10) * self.efisiensi )\r\n",
    "        return print(\"Sisa bensin adalah {}\".format(sisa))\r\n",
    "    \r\n",
    "mobil1 = Mobil(\"Sedan\", \"Merah\", 40, 4)\r\n",
    "mobil1.sisa_bensin(20)\r\n",
    "\r\n"
   ],
   "outputs": [
    {
     "output_type": "stream",
     "name": "stdout",
     "text": [
      "Sisa bensin adalah 32.0\n"
     ]
    }
   ],
   "metadata": {}
  },
  {
   "cell_type": "code",
   "execution_count": 17,
   "source": [
    "# Sifat OOP pada Python"
   ],
   "outputs": [],
   "metadata": {}
  },
  {
   "cell_type": "code",
   "execution_count": 20,
   "source": [
    "# Inheritance\r\n",
    "class Mobil:\r\n",
    "  def print_warna(self):\r\n",
    "    print (self.warna)\r\n",
    "  \r\n",
    "  def print_merk(self):\r\n",
    "    print(self.merk)\r\n",
    "    \r\n",
    "class SUV(Mobil):\r\n",
    "  def __init__(self, warna, merk):\r\n",
    "    self.warna = warna\r\n",
    "    self.merk = merk\r\n",
    "    \r\n",
    "mobil1 = SUV(\"Hitam\", \"Mitsubuhishi\")\r\n",
    "mobil1.print_warna()\r\n",
    "mobil1.print_merk()"
   ],
   "outputs": [
    {
     "output_type": "stream",
     "name": "stdout",
     "text": [
      "Hitam\n",
      "Mitsubuhishi\n"
     ]
    }
   ],
   "metadata": {}
  },
  {
   "cell_type": "code",
   "execution_count": 23,
   "source": [
    "# Encapsulation\r\n",
    "\r\n",
    "class Mobil:\r\n",
    "    var_a = 'Merah'\r\n",
    "\r\n",
    "mobil = Mobil()\r\n",
    "print(mobil.var_a)"
   ],
   "outputs": [
    {
     "output_type": "stream",
     "name": "stdout",
     "text": [
      "Merah\n"
     ]
    }
   ],
   "metadata": {}
  },
  {
   "cell_type": "code",
   "execution_count": 25,
   "source": [
    "class Mobil:\r\n",
    "    __var_a = 'Merah'\r\n",
    "\r\n",
    "mobil = Mobil()\r\n",
    "print(mobil.__var_a)"
   ],
   "outputs": [
    {
     "output_type": "error",
     "ename": "AttributeError",
     "evalue": "'Mobil' object has no attribute '__var_a'",
     "traceback": [
      "\u001b[1;31m---------------------------------------------------------------------------\u001b[0m",
      "\u001b[1;31mAttributeError\u001b[0m                            Traceback (most recent call last)",
      "\u001b[1;32m~\\AppData\\Local\\Temp/ipykernel_596/3034789529.py\u001b[0m in \u001b[0;36m<module>\u001b[1;34m\u001b[0m\n\u001b[0;32m      3\u001b[0m \u001b[1;33m\u001b[0m\u001b[0m\n\u001b[0;32m      4\u001b[0m \u001b[0mmobil\u001b[0m \u001b[1;33m=\u001b[0m \u001b[0mMobil\u001b[0m\u001b[1;33m(\u001b[0m\u001b[1;33m)\u001b[0m\u001b[1;33m\u001b[0m\u001b[1;33m\u001b[0m\u001b[0m\n\u001b[1;32m----> 5\u001b[1;33m \u001b[0mprint\u001b[0m\u001b[1;33m(\u001b[0m\u001b[0mmobil\u001b[0m\u001b[1;33m.\u001b[0m\u001b[0m__var_a\u001b[0m\u001b[1;33m)\u001b[0m\u001b[1;33m\u001b[0m\u001b[1;33m\u001b[0m\u001b[0m\n\u001b[0m",
      "\u001b[1;31mAttributeError\u001b[0m: 'Mobil' object has no attribute '__var_a'"
     ]
    }
   ],
   "metadata": {}
  },
  {
   "cell_type": "code",
   "execution_count": 34,
   "source": [
    "# Polymorphism\r\n",
    "\r\n",
    "class Pesawat:\r\n",
    "  def bisa_terbang(self):\r\n",
    "    print('Bisa Terbang')\r\n",
    "\r\n",
    "class Mobil:\r\n",
    "  def bisa_terbang(self):\r\n",
    "    print('Tidak Bisa Terbang')\r\n",
    "    \r\n",
    "def cek_terbang(Kendaraan):\r\n",
    "    Kendaraan.bisa_terbang()\r\n",
    "    \r\n"
   ],
   "outputs": [],
   "metadata": {}
  },
  {
   "cell_type": "code",
   "execution_count": 36,
   "source": [
    "pesawat = Pesawat()\r\n",
    "mobil = Mobil()\r\n",
    "\r\n",
    "cek_terbang(pesawat)\r\n",
    "cek_terbang(mobil)"
   ],
   "outputs": [
    {
     "output_type": "stream",
     "name": "stdout",
     "text": [
      "Bisa Terbang\n",
      "Tidak Bisa Terbang\n"
     ]
    }
   ],
   "metadata": {}
  }
 ],
 "metadata": {
  "orig_nbformat": 4,
  "language_info": {
   "name": "python"
  }
 },
 "nbformat": 4,
 "nbformat_minor": 2
}