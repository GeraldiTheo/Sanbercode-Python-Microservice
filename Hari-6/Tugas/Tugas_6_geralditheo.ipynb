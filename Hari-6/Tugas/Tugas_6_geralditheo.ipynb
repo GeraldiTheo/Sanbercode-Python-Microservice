{
 "metadata": {
  "language_info": {
   "codemirror_mode": {
    "name": "ipython",
    "version": 3
   },
   "file_extension": ".py",
   "mimetype": "text/x-python",
   "name": "python",
   "nbconvert_exporter": "python",
   "pygments_lexer": "ipython3",
   "version": 3
  },
  "orig_nbformat": 2
 },
 "nbformat": 4,
 "nbformat_minor": 2,
 "cells": [
  {
   "cell_type": "markdown",
   "source": [
    "Buatlah sebuah class yang memiliki masukkan sebuah dua buah angka. class tersebut memiliki tiga fungsi/method. \n",
    "\n",
    "fungsi pertama digunakan untuk untuk mencari tahu apakah nilai tersebut ganjil atau genap, fungsi ini merupakan fungsi tanpa return dengan print. Fungsi ini harus diinisiasi setelah pembuatan objek.\n",
    "\n",
    "fungsi kedua untuk melakukan pangkat dua masing-masing terhadap kedua bilangan tersebut. Fungsi ini merupakan fungsi tanpa return. Fungsi ini tidak diinisiasi setelah pembuatan objek.\n",
    "\n",
    "Fungsi ketiga adalah fungsi untuk mencari fpb dari hasil pada fungsi kedua. gunakan hasil dari fungsi kedua. fungsi ini merupakan fungsi dengan return."
   ],
   "metadata": {}
  },
  {
   "cell_type": "code",
   "execution_count": 16,
   "source": [
    "class materi_hitung:\r\n",
    "    def __init__(self, var_a, var_b):\r\n",
    "        self.var_a = var_a\r\n",
    "        self.var_b = var_b\r\n",
    "\r\n",
    "    def f_satu(self):\r\n",
    "        #fungsi untuk menampilkan bilangan ganjil atau genap\r\n",
    "        #tanpa return\r\n",
    "        list_of_var = [self.var_a, self.var_b]\r\n",
    "        list_of_bil = []\r\n",
    "        \r\n",
    "        for item in list_of_var:\r\n",
    "            if item % 2 == 0:\r\n",
    "                list_of_bil.append(\"genap\")\r\n",
    "            elif item % 2 == 1:\r\n",
    "                list_of_bil.append(\"ganjil\")\r\n",
    "            \r\n",
    "        print(\"{} merupakan bilangan {}, {} merupakan bilangan {}\".format(list_of_var[0], list_of_bil[0], list_of_var[1], list_of_bil[1]))\r\n",
    "\r\n",
    "    def f_dua(self):\r\n",
    "        #fungsi tanpa return\r\n",
    "        #untuk melakukan pangkat dua\r\n",
    "        print(\"{} pangkat dua adalah {}, {} pangkat dua adalah {}\".format(self.var_a, self.var_a ** 2, self.var_b, self.var_b ** 2))\r\n",
    "\r\n",
    "    def f_tiga(self):\r\n",
    "        #fungsi dengan return\r\n",
    "        #untuk mencari fpb dan mengembalikan nilai fpbnya\r\n",
    "        \r\n",
    "        x = self.var_a\r\n",
    "        y = self.var_b\r\n",
    "        \r\n",
    "        while(y):\r\n",
    "            x, y = y, x % y\r\n",
    "            \r\n",
    "        return print(\"FPB dari {} dan {} adalah {}\".format(self.var_a, self.var_b, x)  )\r\n",
    "\r\n",
    "var_1 = 9\r\n",
    "var_2 = 24\r\n",
    "tugas = materi_hitung(var_1,var_2)\r\n",
    "tugas.f_satu()\r\n",
    "tugas.f_dua()\r\n",
    "tugas.f_tiga()\r\n",
    "\r\n",
    "#output\r\n",
    "#9 merupakan bilangan ganjil, 24 merupakan bilangan genap\r\n",
    "#FPB dari 81 dan 576 adalah 9"
   ],
   "outputs": [
    {
     "output_type": "stream",
     "name": "stdout",
     "text": [
      "9 merupakan bilangan ganjil, 24 merupakan bilangan genap\n",
      "9 pangkat dua adalah 81, 24 pangkat dua adalah 576\n",
      "FPB dari 9 dan 24 adalah 3\n"
     ]
    }
   ],
   "metadata": {}
  }
 ]
}