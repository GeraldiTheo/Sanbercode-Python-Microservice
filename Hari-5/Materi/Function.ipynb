{
 "cells": [
  {
   "cell_type": "markdown",
   "source": [
    "Function \r\n",
    "\r\n",
    "suatu kumpulan pernyataan atau kode yang dibagi kedalam suatu blok. "
   ],
   "metadata": {}
  },
  {
   "cell_type": "code",
   "execution_count": 1,
   "source": [
    "def nama_fungsi(parameter):\r\n",
    "    pass"
   ],
   "outputs": [],
   "metadata": {}
  },
  {
   "cell_type": "code",
   "execution_count": 2,
   "source": [
    "def hello_world():\r\n",
    "    print('Hello World!')"
   ],
   "outputs": [],
   "metadata": {}
  },
  {
   "cell_type": "code",
   "execution_count": 3,
   "source": [
    "hello_world()"
   ],
   "outputs": [
    {
     "output_type": "stream",
     "name": "stdout",
     "text": [
      "Hello World!\n"
     ]
    }
   ],
   "metadata": {}
  },
  {
   "cell_type": "markdown",
   "source": [
    "## Jenis Fungsi"
   ],
   "metadata": {}
  },
  {
   "cell_type": "code",
   "execution_count": 5,
   "source": [
    "# fungsi pass\r\n",
    "def fungsi_1():\r\n",
    "    pass"
   ],
   "outputs": [],
   "metadata": {}
  },
  {
   "cell_type": "code",
   "execution_count": 6,
   "source": [
    "# fungsi tanpa return\r\n",
    "def hello_world():\r\n",
    "    print('Zaa Warudo')"
   ],
   "outputs": [],
   "metadata": {}
  },
  {
   "cell_type": "code",
   "execution_count": 7,
   "source": [
    "# fungsi return\r\n",
    "def pangkat(nilai):\r\n",
    "    return nilai ** 2\r\n",
    "\r\n",
    "pangkat(3)"
   ],
   "outputs": [
    {
     "output_type": "execute_result",
     "data": {
      "text/plain": [
       "9"
      ]
     },
     "metadata": {},
     "execution_count": 7
    }
   ],
   "metadata": {}
  },
  {
   "cell_type": "markdown",
   "source": [
    "## Parameter pada fungsi"
   ],
   "metadata": {}
  },
  {
   "cell_type": "code",
   "execution_count": 8,
   "source": [
    "# Default Parameter\r\n",
    "def fungsi_2(nilai_1 = 1, nilai_2 = 2):\r\n",
    "    return nilai_1 + nilai_2\r\n",
    "\r\n",
    "fungsi_2()"
   ],
   "outputs": [
    {
     "output_type": "execute_result",
     "data": {
      "text/plain": [
       "3"
      ]
     },
     "metadata": {},
     "execution_count": 8
    }
   ],
   "metadata": {}
  },
  {
   "cell_type": "code",
   "execution_count": 9,
   "source": [
    "# Keyword parameter\r\n",
    "def fungsi_3(nama):\r\n",
    "    print(nama)\r\n",
    "    \r\n",
    "fungsi_3(nama='Geraldi Theo')"
   ],
   "outputs": [
    {
     "output_type": "stream",
     "name": "stdout",
     "text": [
      "Geraldi Theo\n"
     ]
    }
   ],
   "metadata": {}
  },
  {
   "cell_type": "code",
   "execution_count": 10,
   "source": [
    "# Arbitary Paramater"
   ],
   "outputs": [],
   "metadata": {}
  },
  {
   "cell_type": "code",
   "execution_count": 11,
   "source": [
    "## args (tuple)\r\n",
    "def fungsi_4(*nama):\r\n",
    "    for item in nama:\r\n",
    "        print(item)\r\n",
    "\r\n",
    "fungsi_4('Geraldu', 'Theodore', 'Roosevelet')\r\n"
   ],
   "outputs": [
    {
     "output_type": "stream",
     "name": "stdout",
     "text": [
      "Geraldu\n",
      "Theodore\n",
      "Roosevelet\n"
     ]
    }
   ],
   "metadata": {}
  },
  {
   "cell_type": "code",
   "execution_count": 12,
   "source": [
    "## kwargs (dictionary)\r\n",
    "def fungsi_5(**nama):\r\n",
    "    for key,value in nama.items():\r\n",
    "        print(key, value)\r\n",
    "\r\n",
    "fungsi_5(nama='Geraldi', umur=22)"
   ],
   "outputs": [
    {
     "output_type": "stream",
     "name": "stdout",
     "text": [
      "nama Geraldi\n",
      "umur 22\n"
     ]
    }
   ],
   "metadata": {}
  },
  {
   "cell_type": "markdown",
   "source": [
    "## Fungsi Anonymus"
   ],
   "metadata": {}
  },
  {
   "cell_type": "code",
   "execution_count": 15,
   "source": [
    "# lambda argument: kode/pernyataan\r\n",
    "\r\n",
    "kali_2 = lambda x: x * 2\r\n",
    "kali_2(2)"
   ],
   "outputs": [
    {
     "output_type": "execute_result",
     "data": {
      "text/plain": [
       "4"
      ]
     },
     "metadata": {},
     "execution_count": 15
    }
   ],
   "metadata": {}
  },
  {
   "cell_type": "code",
   "execution_count": 16,
   "source": [
    "# fungsi map\r\n",
    "data = [1,2,3,4]\r\n",
    "\r\n",
    "def kali_3(nilai):\r\n",
    "    return nilai * 3\r\n",
    "\r\n",
    "hasil = list(map(kali_3, data))\r\n",
    "hasil"
   ],
   "outputs": [
    {
     "output_type": "execute_result",
     "data": {
      "text/plain": [
       "[3, 6, 9, 12]"
      ]
     },
     "metadata": {},
     "execution_count": 16
    }
   ],
   "metadata": {}
  },
  {
   "cell_type": "code",
   "execution_count": 17,
   "source": [
    "# fungsi map use lambda\r\n",
    "data = [2,3,4,5]\r\n",
    "\r\n",
    "hasil = list(map(lambda x: x*3, data))\r\n",
    "hasil"
   ],
   "outputs": [
    {
     "output_type": "execute_result",
     "data": {
      "text/plain": [
       "[6, 9, 12, 15]"
      ]
     },
     "metadata": {},
     "execution_count": 17
    }
   ],
   "metadata": {}
  },
  {
   "cell_type": "code",
   "execution_count": null,
   "source": [],
   "outputs": [],
   "metadata": {}
  }
 ],
 "metadata": {
  "orig_nbformat": 4,
  "language_info": {
   "name": "python"
  }
 },
 "nbformat": 4,
 "nbformat_minor": 2
}