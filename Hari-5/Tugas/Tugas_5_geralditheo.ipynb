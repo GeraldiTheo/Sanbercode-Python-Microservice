{
 "metadata": {
  "language_info": {
   "codemirror_mode": {
    "name": "ipython",
    "version": 3
   },
   "file_extension": ".py",
   "mimetype": "text/x-python",
   "name": "python",
   "nbconvert_exporter": "python",
   "pygments_lexer": "ipython3",
   "version": "3.8.6-final"
  },
  "orig_nbformat": 2,
  "kernelspec": {
   "name": "python3",
   "display_name": "Python 3.8.6 64-bit ('public_op')",
   "metadata": {
    "interpreter": {
     "hash": "66914c7a76df292d6a0bba50fafa355dedd93b53ceb1028df6ae26adc2894cfa"
    }
   }
  }
 },
 "nbformat": 4,
 "nbformat_minor": 2,
 "cells": [
  {
   "cell_type": "markdown",
   "source": [
    "1. Buatlah sebuah fungsi untuk mengecek apakah suatu string palindrom atau bukan"
   ],
   "metadata": {}
  },
  {
   "cell_type": "code",
   "execution_count": 15,
   "source": [
    "#kerjakan soal no.1 pada sel ini\r\n",
    "#contoh: data = 'makam'\r\n",
    "#test_palindrom(data)\r\n",
    "#makam merupakan palindrom\r\n",
    "\r\n",
    "data = 'makam'\r\n",
    "\r\n",
    "def test_palindrome(data):\r\n",
    "    half = int(len(data)/2)\r\n",
    "    full = int(len(data))\r\n",
    "    \r\n",
    "    for i in range(half):\r\n",
    "        if (data[i] == data[(full-1) - i]):\r\n",
    "            return True\r\n",
    "\r\n",
    "        else:\r\n",
    "            return False\r\n",
    "\r\n",
    "test_palindrome(data)"
   ],
   "outputs": [
    {
     "output_type": "execute_result",
     "data": {
      "text/plain": [
       "True"
      ]
     },
     "metadata": {},
     "execution_count": 15
    }
   ],
   "metadata": {}
  },
  {
   "cell_type": "markdown",
   "source": [
    "2. Buatlah sebuah fungsi lambda untuk mencari nilai rata-rata dari sebuah list. Lalu aplikasikan fungsi tersebut pada key \"nilai\" pada dictionary di bawah. Hasilnya masukkan menjadi key baru (Nilai rata-rata) pada nama masing-masing (data/variabel sama)."
   ],
   "metadata": {}
  },
  {
   "cell_type": "code",
   "execution_count": 64,
   "source": [
    "#kerjakan soal no.2 pada sel berikut ini\r\n",
    "#output: print(data_siswa)\r\n",
    "# [{'Nama': 'Tono', 'Nilai': [47, 50, 81, 30, 22], 'Rata-rata nilai': 46.0},\r\n",
    "# {'Nama': 'Lisa', 'Nilai': [58, 82, 26, 26, 71], 'Rata-rata nilai': 52.6},\r\n",
    "# {'Nama': 'Ali', 'Nilai': [40, 47, 16, 77, 71], 'Rata-rata nilai': 50.2},\r\n",
    "# {'Nama': 'Isna', 'Nilai': [53, 29, 21, 39, 6], 'Rata-rata nilai': 29.6}]\r\n",
    "\r\n",
    "data_siswa = [\r\n",
    "    {\r\n",
    "        \"Nama\":\"Tono\",\r\n",
    "        \"Nilai\":[47, 50, 81, 30, 22]\r\n",
    "    },\r\n",
    "    {\r\n",
    "        \"Nama\":\"Lisa\",\r\n",
    "        \"Nilai\":[58, 82, 26, 26, 71]\r\n",
    "    },\r\n",
    "    {\r\n",
    "        \"Nama\":\"Ali\",\r\n",
    "        \"Nilai\":[40, 47, 16, 77, 71]\r\n",
    "    },\r\n",
    "    {\r\n",
    "        \"Nama\":\"Isna\",\r\n",
    "        \"Nilai\":[53, 29, 21, 39, 6]\r\n",
    "    }\r\n",
    "]\r\n",
    "\r\n",
    "rata_rata =  lambda x: sum(x) / len(x)\r\n",
    "\r\n",
    "for value in data_siswa:\r\n",
    "    value['Rata-rata nilai'] = rata_rata(value['Nilai'])\r\n",
    "    \r\n",
    "\r\n",
    "data_siswa"
   ],
   "outputs": [
    {
     "output_type": "execute_result",
     "data": {
      "text/plain": [
       "[{'Nama': 'Tono', 'Nilai': [47, 50, 81, 30, 22], 'Rata-rata nilai': 46.0},\n",
       " {'Nama': 'Lisa', 'Nilai': [58, 82, 26, 26, 71], 'Rata-rata nilai': 52.6},\n",
       " {'Nama': 'Ali', 'Nilai': [40, 47, 16, 77, 71], 'Rata-rata nilai': 50.2},\n",
       " {'Nama': 'Isna', 'Nilai': [53, 29, 21, 39, 6], 'Rata-rata nilai': 29.6}]"
      ]
     },
     "metadata": {},
     "execution_count": 64
    }
   ],
   "metadata": {}
  }
 ]
}