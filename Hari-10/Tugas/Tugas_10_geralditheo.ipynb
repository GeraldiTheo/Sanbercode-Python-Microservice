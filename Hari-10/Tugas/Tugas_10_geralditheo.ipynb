{
 "metadata": {
  "language_info": {
   "codemirror_mode": {
    "name": "ipython",
    "version": 3
   },
   "file_extension": ".py",
   "mimetype": "text/x-python",
   "name": "python",
   "nbconvert_exporter": "python",
   "pygments_lexer": "ipython3",
   "version": "3.9.5"
  },
  "orig_nbformat": 2,
  "kernelspec": {
   "name": "python3",
   "display_name": "Python 3.9.5 64-bit ('Sanbercode': virtualenvwrapper)"
  },
  "interpreter": {
   "hash": "0046094cf3e3d8a141ff2147d0240db0358a5fb86146a3667249e3d68c0f5390"
  }
 },
 "nbformat": 4,
 "nbformat_minor": 2,
 "cells": [
  {
   "cell_type": "markdown",
   "source": [
    "Dengan menggunakan tabel bios yang kita gunakan pada materi (dengan import bios.json) kerjakan soal di bawah ini dengan menuliskan query yang digunakan."
   ],
   "metadata": {}
  },
  {
   "cell_type": "markdown",
   "source": [
    "1. Tuliskan query yang digunakan untuk mencari data programmer dengan kriteria:\n",
    "\n",
    " - id lebih kecil dari 5"
   ],
   "metadata": {}
  },
  {
   "cell_type": "code",
   "execution_count": 1,
   "source": [
    "'''\r\n",
    "tuliskan jawaban no satu di sini\r\n",
    "\r\n",
    "db.bios.find({ \"_id\": {$lt:5} }).pretty()\r\n",
    "\r\n",
    "\r\n",
    "\r\n",
    "\r\n",
    "'''"
   ],
   "outputs": [
    {
     "output_type": "execute_result",
     "data": {
      "text/plain": [
       "'\\ntuliskan jawaban no satu di sini\\n\\ndb.bios.find({ \"_id\": {$lt:5} }).pretty()\\n\\n\\n\\n\\n'"
      ]
     },
     "metadata": {},
     "execution_count": 1
    }
   ],
   "metadata": {}
  },
  {
   "cell_type": "markdown",
   "source": [
    "2. Tuliskan query yang digunakan untuk mencari data programmer dengan kriteria:\n",
    "\n",
    "- lahir di atas tahun 1950\n",
    "- mendapatkan award diatas tahun 2000"
   ],
   "metadata": {}
  },
  {
   "cell_type": "code",
   "execution_count": 2,
   "source": [
    "'''\r\n",
    "tuliskan jawaban no dua di sini\r\n",
    "\r\n",
    " db.bios.find( { \"birth\": { $gt: new Date('1950-01-01') }, \"awards.year\": { $gt: 2000 } } ).pretty()\r\n",
    "\r\n",
    "\r\n",
    "\r\n",
    "\r\n",
    "'''"
   ],
   "outputs": [
    {
     "output_type": "execute_result",
     "data": {
      "text/plain": [
       "'\\ntuliskan jawaban no dua di sini\\n\\n db.bios.find( { \"birth\": { $gt: new Date(\\'1950-01-01\\') }, \"awards.year\": { $gt: 2000 } } ).pretty()\\n\\n\\n\\n\\n'"
      ]
     },
     "metadata": {},
     "execution_count": 2
    }
   ],
   "metadata": {}
  },
  {
   "cell_type": "markdown",
   "source": [
    "3. Tuliskan query yang digunakan untuk mencari data programmer dengan kriteria:\n",
    "\n",
    "- Nama depannya di awali huruf J\n",
    "- mendapatkan Turing Award"
   ],
   "metadata": {}
  },
  {
   "cell_type": "code",
   "execution_count": 3,
   "source": [
    "'''\r\n",
    "tuliskan jawaban no tiga di sini\r\n",
    "\r\n",
    "db.bios.find({\"name.first\" : {$regex: /^J/i}, \"awards.award\": \"Turing Award\"}).pretty()\r\n",
    "\r\n",
    "\r\n",
    "\r\n",
    "\r\n",
    "'''"
   ],
   "outputs": [
    {
     "output_type": "execute_result",
     "data": {
      "text/plain": [
       "'\\ntuliskan jawaban no tiga di sini\\n\\ndb.bios.find({\"name.first\" : {$regex: /^J/i}, \"awards.award\": \"Turing Award\"}).pretty()\\n\\n\\n\\n\\n'"
      ]
     },
     "metadata": {},
     "execution_count": 3
    }
   ],
   "metadata": {}
  }
 ]
}