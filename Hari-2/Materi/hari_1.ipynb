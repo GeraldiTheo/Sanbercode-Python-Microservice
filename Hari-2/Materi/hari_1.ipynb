{
 "metadata": {
  "language_info": {
   "codemirror_mode": {
    "name": "ipython",
    "version": 3
   },
   "file_extension": ".py",
   "mimetype": "text/x-python",
   "name": "python",
   "nbconvert_exporter": "python",
   "pygments_lexer": "ipython3",
   "version": "3.8.5"
  },
  "orig_nbformat": 4,
  "kernelspec": {
   "name": "python3",
   "display_name": "Python 3.8.5 64-bit ('base': conda)"
  },
  "interpreter": {
   "hash": "0902df81bf2e37dfaa287a0da919a663c916efb87260f7b46fb30dc108bcbc89"
  }
 },
 "nbformat": 4,
 "nbformat_minor": 2,
 "cells": [
  {
   "source": [
    "### Variable\n",
    "\n",
    "Variable adalah suatu kuantitas yang nilai dapat diganti ganti"
   ],
   "cell_type": "markdown",
   "metadata": {}
  },
  {
   "source": [
    "Penamaan variable\n",
    "\n",
    "x -> penamaan yang benar\n",
    "\n",
    "_x -> penamaan yang benar\n",
    "\n",
    "nilai x -> penamaan yang salah\n",
    "\n",
    "nilai_x -> penamaan yang benar\n",
    "\n",
    "list -> penamaan yang salah, karena built in python\n",
    "\n",
    "list_data -> penamaan yang benar"
   ],
   "cell_type": "markdown",
   "metadata": {}
  },
  {
   "cell_type": "code",
   "execution_count": 1,
   "metadata": {},
   "outputs": [],
   "source": [
    "a = 10\n",
    "b = 5"
   ]
  },
  {
   "cell_type": "code",
   "execution_count": 2,
   "metadata": {},
   "outputs": [
    {
     "output_type": "stream",
     "name": "stdout",
     "text": [
      "10\n5\n"
     ]
    }
   ],
   "source": [
    "print(a)\n",
    "print(b)"
   ]
  },
  {
   "cell_type": "code",
   "execution_count": 3,
   "metadata": {},
   "outputs": [],
   "source": [
    "d, c = 10, 5"
   ]
  },
  {
   "cell_type": "code",
   "execution_count": 4,
   "metadata": {},
   "outputs": [
    {
     "output_type": "stream",
     "name": "stdout",
     "text": [
      "5 10\n"
     ]
    }
   ],
   "source": [
    "print(c, d)"
   ]
  },
  {
   "cell_type": "code",
   "execution_count": 5,
   "metadata": {},
   "outputs": [
    {
     "output_type": "stream",
     "name": "stdout",
     "text": [
      "nilai c : 5\n"
     ]
    }
   ],
   "source": [
    "print(\"nilai c :\", c)"
   ]
  },
  {
   "source": [
    "Tipe data 1. numerik 2. string 3. boolean"
   ],
   "cell_type": "markdown",
   "metadata": {}
  },
  {
   "source": [
    "TIPE DATA NUMERIK\n",
    "\n",
    "integer -> 1 ,2 ,3, 4\n",
    "\n",
    "float -> 1.2 , 1.3 , 1.4"
   ],
   "cell_type": "markdown",
   "metadata": {}
  },
  {
   "cell_type": "code",
   "execution_count": 6,
   "metadata": {},
   "outputs": [
    {
     "output_type": "stream",
     "name": "stdout",
     "text": [
      "<class 'int'>\n"
     ]
    }
   ],
   "source": [
    "var_a = 10\n",
    "\n",
    "print(type(var_a))"
   ]
  },
  {
   "cell_type": "code",
   "execution_count": 7,
   "metadata": {},
   "outputs": [
    {
     "output_type": "stream",
     "name": "stdout",
     "text": [
      "<class 'float'>\n"
     ]
    }
   ],
   "source": [
    "var_b = 5.5\n",
    "\n",
    "print(type(var_b))"
   ]
  },
  {
   "cell_type": "code",
   "execution_count": 8,
   "metadata": {},
   "outputs": [
    {
     "output_type": "stream",
     "name": "stdout",
     "text": [
      "hasil:  15.5 type:  <class 'float'>\n"
     ]
    }
   ],
   "source": [
    "hasil = var_a + var_b\n",
    "\n",
    "print(\"hasil: \", hasil, \"type: \", type(hasil))"
   ]
  },
  {
   "source": [
    "TIPE DATA STRING\n",
    "\n",
    "Akan berupa string meskipun berupa angka"
   ],
   "cell_type": "markdown",
   "metadata": {}
  },
  {
   "cell_type": "code",
   "execution_count": 9,
   "metadata": {},
   "outputs": [
    {
     "output_type": "stream",
     "name": "stdout",
     "text": [
      "<class 'str'>\n"
     ]
    }
   ],
   "source": [
    "var_string_1 = \"Andi\"\n",
    "\n",
    "print(type(var_string_1))"
   ]
  },
  {
   "cell_type": "code",
   "execution_count": 10,
   "metadata": {},
   "outputs": [
    {
     "output_type": "stream",
     "name": "stdout",
     "text": [
      "<class 'str'>\n"
     ]
    }
   ],
   "source": [
    "var_string_2 = \"2\"\n",
    "\n",
    "print(type(var_string_2))"
   ]
  },
  {
   "cell_type": "code",
   "execution_count": 13,
   "metadata": {},
   "outputs": [
    {
     "output_type": "execute_result",
     "data": {
      "text/plain": [
       "'210'"
      ]
     },
     "metadata": {},
     "execution_count": 13
    }
   ],
   "source": [
    "var_string_2 + str(var_a) "
   ]
  },
  {
   "source": [
    "Inisiasi String\n",
    "\n",
    "' ' -> membuat nilai pada baris yang sama bertipe string\n",
    "\n",
    "\" \" -> membuat nilai pada baris yang sama bertipe string\n",
    "\n",
    "''' ''' membuat nilai pada baris yang berbeda bertipe string"
   ],
   "cell_type": "markdown",
   "metadata": {}
  },
  {
   "cell_type": "code",
   "execution_count": 29,
   "metadata": {},
   "outputs": [
    {
     "output_type": "stream",
     "name": "stdout",
     "text": [
      "<class 'str'>\n"
     ]
    }
   ],
   "source": [
    "var_string_3 = \"budi's house\"\n",
    "\n",
    "print(type(var_string_3))"
   ]
  },
  {
   "cell_type": "code",
   "execution_count": 17,
   "metadata": {},
   "outputs": [
    {
     "output_type": "stream",
     "name": "stdout",
     "text": [
      "<class 'str'>\n"
     ]
    }
   ],
   "source": [
    "var_string_4 = 'Anton\\'s house'\n",
    "\n",
    "print(type(var_string_4))"
   ]
  },
  {
   "cell_type": "code",
   "execution_count": 20,
   "metadata": {},
   "outputs": [
    {
     "output_type": "stream",
     "name": "stdout",
     "text": [
      "<class 'str'>\n\n\nParapara\n\nparagraph\n\n\n\n"
     ]
    }
   ],
   "source": [
    "var_string_5 = '''\n",
    "\n",
    "Parapara\n",
    "\n",
    "paragraph\n",
    "\n",
    "\n",
    "'''\n",
    "\n",
    "print(type(var_string_5))\n",
    "print(var_string_5)"
   ]
  },
  {
   "cell_type": "code",
   "execution_count": 25,
   "metadata": {},
   "outputs": [
    {
     "output_type": "stream",
     "name": "stdout",
     "text": [
      "Ini adalah formating Andi 2\n"
     ]
    }
   ],
   "source": [
    "print(\"Ini adalah formating {0} {1}\".format(var_string_1, var_string_2))"
   ]
  },
  {
   "cell_type": "code",
   "execution_count": 26,
   "metadata": {},
   "outputs": [
    {
     "output_type": "stream",
     "name": "stdout",
     "text": [
      "Ini adalah cara print Andi 2\n"
     ]
    }
   ],
   "source": [
    "print(\"Ini adalah cara print\", var_string_1 , var_string_2)"
   ]
  },
  {
   "cell_type": "code",
   "execution_count": 30,
   "metadata": {},
   "outputs": [
    {
     "output_type": "execute_result",
     "data": {
      "text/plain": [
       "\"Budi's house\""
      ]
     },
     "metadata": {},
     "execution_count": 30
    }
   ],
   "source": [
    "var_string_3.capitalize()"
   ]
  },
  {
   "source": [
    "TIPE DATA BOOLEAN\n",
    "\n",
    "true or false"
   ],
   "cell_type": "markdown",
   "metadata": {}
  },
  {
   "cell_type": "code",
   "execution_count": 34,
   "metadata": {},
   "outputs": [
    {
     "output_type": "stream",
     "name": "stdout",
     "text": [
      "True\n"
     ]
    }
   ],
   "source": [
    "var_g = 10\n",
    "var_h = 10.0\n",
    "\n",
    "print(var_g == var_h)"
   ]
  },
  {
   "cell_type": "code",
   "execution_count": null,
   "metadata": {},
   "outputs": [],
   "source": []
  }
 ]
}