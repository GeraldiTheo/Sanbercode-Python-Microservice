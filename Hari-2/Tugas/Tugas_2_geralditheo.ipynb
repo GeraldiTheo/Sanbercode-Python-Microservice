{
 "metadata": {
  "language_info": {
   "codemirror_mode": {
    "name": "ipython",
    "version": 3
   },
   "file_extension": ".py",
   "mimetype": "text/x-python",
   "name": "python",
   "nbconvert_exporter": "python",
   "pygments_lexer": "ipython3",
   "version": 3
  },
  "orig_nbformat": 2
 },
 "nbformat": 4,
 "nbformat_minor": 2,
 "cells": [
  {
   "cell_type": "markdown",
   "source": [
    "1. Buatlah 3 variabel yang masing-masing berisi\n",
    "    \n",
    "    a. Nama depan (string)\n",
    "    \n",
    "    b. Umur (integer)\n",
    "    \n",
    "    c. kota tinggal (string)"
   ],
   "metadata": {}
  },
  {
   "cell_type": "code",
   "execution_count": 3,
   "source": [
    "#kerjakan soal no 1 pada sel ini\r\n",
    "\r\n",
    "name = \"Geraldi\"\r\n",
    "age = 22\r\n",
    "city = \"Kendal\""
   ],
   "outputs": [],
   "metadata": {}
  },
  {
   "cell_type": "markdown",
   "source": [
    "2. Tampilkan semua variabel pada soal no 1 menjadi sebuah kalimat dengan menggunakan metode print()"
   ],
   "metadata": {}
  },
  {
   "cell_type": "code",
   "execution_count": 4,
   "source": [
    "#kerjakan soal no 2 pada bagian sel ini\r\n",
    "#contoh keluaran yang diharapkan : \"Nama saya adalah Thio, berusia 28 tahun dan tinggal di Bandung.\"\r\n",
    "\r\n",
    "print(\"Nama saya adalah {}, berusia {} tahun dan tinggal di {}\".format(name, age, city))"
   ],
   "outputs": [
    {
     "output_type": "stream",
     "name": "stdout",
     "text": [
      "Nama saya adalah Geraldi, berusia 22 tahun dan tinggal di Kendal\n"
     ]
    }
   ],
   "metadata": {}
  },
  {
   "cell_type": "markdown",
   "source": [
    "3. Dengan menggunakan salah satu string method, ubah kata mangga pada variabel kalimat menjadi apel dan masukkan pada variabel kalimat_2 lalu print variabel kalimat_2"
   ],
   "metadata": {}
  },
  {
   "cell_type": "code",
   "execution_count": 5,
   "source": [
    "#kerjakan soal no 3 pada bagian sel ini\r\n",
    "kalimat = 'Budi menyukai buah mangga'\r\n",
    "kalimat_2 = kalimat.replace('mangga', 'apel')\r\n",
    "print(kalimat_2)"
   ],
   "outputs": [
    {
     "output_type": "stream",
     "name": "stdout",
     "text": [
      "Budi menyukai buah apel\n"
     ]
    }
   ],
   "metadata": {}
  }
 ]
}