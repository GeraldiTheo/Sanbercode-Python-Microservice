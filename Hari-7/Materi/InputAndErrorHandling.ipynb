{
 "cells": [
  {
   "cell_type": "code",
   "execution_count": 1,
   "source": [
    "# Input Variable"
   ],
   "outputs": [],
   "metadata": {}
  },
  {
   "cell_type": "code",
   "execution_count": 4,
   "source": [
    "# Metode input()\r\n",
    "\r\n",
    "data_input = input()\r\n",
    "print(\"Data yang anda input adalah : \", data_input)"
   ],
   "outputs": [
    {
     "output_type": "stream",
     "name": "stdout",
     "text": [
      "Data yang anda input adalah :  \n"
     ]
    }
   ],
   "metadata": {}
  },
  {
   "cell_type": "code",
   "execution_count": 6,
   "source": [
    "data_input = input(\"Masukkan string : \")\r\n",
    "print(\"Data yang anda input adalah : \", data_input)"
   ],
   "outputs": [
    {
     "output_type": "stream",
     "name": "stdout",
     "text": [
      "Data yang anda input adalah :  sa\n"
     ]
    }
   ],
   "metadata": {}
  },
  {
   "cell_type": "code",
   "execution_count": 9,
   "source": [
    "# Melalui cmd\r\n",
    "\r\n",
    "# python InputAndErrorHandling.ipynb\r\n",
    "\r\n",
    "# import sys\r\n",
    "\r\n",
    "# for argument in sys.argv:\r\n",
    "#     print(argument)\r\n"
   ],
   "outputs": [],
   "metadata": {}
  },
  {
   "cell_type": "code",
   "execution_count": 11,
   "source": [
    "# Input by File\r\n",
    "\r\n",
    "open('file_01.txt')"
   ],
   "outputs": [
    {
     "output_type": "execute_result",
     "data": {
      "text/plain": [
       "<_io.TextIOWrapper name='file_01.txt' mode='r' encoding='cp1252'>"
      ]
     },
     "metadata": {},
     "execution_count": 11
    }
   ],
   "metadata": {}
  },
  {
   "cell_type": "code",
   "execution_count": 13,
   "source": [
    "# File TXT\r\n",
    "namafile = 'file_01.txt'\r\n",
    "file = open(namafile)\r\n",
    "\r\n",
    "data = file.read()\r\n",
    "\r\n",
    "print(data)"
   ],
   "outputs": [
    {
     "output_type": "stream",
     "name": "stdout",
     "text": [
      "Pada kesempatan kali ini kita akan mencoba untuk membaca file teks. \n",
      "Pembacaan menggunakan bahasa pemograman python\n"
     ]
    }
   ],
   "metadata": {}
  },
  {
   "cell_type": "code",
   "execution_count": 17,
   "source": [
    "# File CSV\r\n",
    "\r\n",
    "import csv\r\n",
    "\r\n",
    "namafile = 'file_02.csv'\r\n",
    "file = open(namafile)\r\n",
    "\r\n",
    "data = csv.reader(file, delimiter=',')\r\n",
    "\r\n",
    "for item in data:\r\n",
    "    print(item)"
   ],
   "outputs": [
    {
     "output_type": "stream",
     "name": "stdout",
     "text": [
      "['NO', 'NAMA', 'NILAI']\n",
      "['1', 'Budi', '95']\n"
     ]
    }
   ],
   "metadata": {}
  },
  {
   "cell_type": "code",
   "execution_count": 19,
   "source": [
    "# File JSON\r\n",
    "\r\n",
    "import json\r\n",
    "\r\n",
    "namafile = 'file_03.json'\r\n",
    "file = open(namafile)\r\n",
    "\r\n",
    "data = json.load(file)\r\n",
    "print(data)"
   ],
   "outputs": [
    {
     "output_type": "stream",
     "name": "stdout",
     "text": [
      "[{'Country': 'Antarctica', 'Slug': 'antarctica', 'ISO2': 'AQ'}, {'Country': 'Malawi', 'Slug': 'malawi', 'ISO2': 'MW'}]\n"
     ]
    }
   ],
   "metadata": {}
  },
  {
   "cell_type": "code",
   "execution_count": 20,
   "source": [
    "# Error Handing"
   ],
   "outputs": [],
   "metadata": {}
  },
  {
   "cell_type": "code",
   "execution_count": 21,
   "source": [
    "# Exception\r\n",
    "\r\n",
    "a = 10\r\n",
    "b = 0\r\n",
    "print(a/b)"
   ],
   "outputs": [
    {
     "output_type": "error",
     "ename": "ZeroDivisionError",
     "evalue": "division by zero",
     "traceback": [
      "\u001b[1;31m---------------------------------------------------------------------------\u001b[0m",
      "\u001b[1;31mZeroDivisionError\u001b[0m                         Traceback (most recent call last)",
      "\u001b[1;32m~\\AppData\\Local\\Temp/ipykernel_7160/4165180450.py\u001b[0m in \u001b[0;36m<module>\u001b[1;34m\u001b[0m\n\u001b[0;32m      3\u001b[0m \u001b[0ma\u001b[0m \u001b[1;33m=\u001b[0m \u001b[1;36m10\u001b[0m\u001b[1;33m\u001b[0m\u001b[1;33m\u001b[0m\u001b[0m\n\u001b[0;32m      4\u001b[0m \u001b[0mb\u001b[0m \u001b[1;33m=\u001b[0m \u001b[1;36m0\u001b[0m\u001b[1;33m\u001b[0m\u001b[1;33m\u001b[0m\u001b[0m\n\u001b[1;32m----> 5\u001b[1;33m \u001b[0mprint\u001b[0m\u001b[1;33m(\u001b[0m\u001b[0ma\u001b[0m\u001b[1;33m/\u001b[0m\u001b[0mb\u001b[0m\u001b[1;33m)\u001b[0m\u001b[1;33m\u001b[0m\u001b[1;33m\u001b[0m\u001b[0m\n\u001b[0m",
      "\u001b[1;31mZeroDivisionError\u001b[0m: division by zero"
     ]
    }
   ],
   "metadata": {}
  },
  {
   "cell_type": "code",
   "execution_count": 22,
   "source": [
    "for i in range(10):\r\n",
    "    if i > 7:\r\n",
    "        raise Exception(\"Nilai lebih besar dari 7\")\r\n",
    "    \r\n",
    "    print(\"Nilai : \", i)"
   ],
   "outputs": [
    {
     "output_type": "stream",
     "name": "stdout",
     "text": [
      "Nilai :  0\n",
      "Nilai :  1\n",
      "Nilai :  2\n",
      "Nilai :  3\n",
      "Nilai :  4\n",
      "Nilai :  5\n",
      "Nilai :  6\n",
      "Nilai :  7\n"
     ]
    },
    {
     "output_type": "error",
     "ename": "Exception",
     "evalue": "Nilai lebih besar dari 7",
     "traceback": [
      "\u001b[1;31m---------------------------------------------------------------------------\u001b[0m",
      "\u001b[1;31mException\u001b[0m                                 Traceback (most recent call last)",
      "\u001b[1;32m~\\AppData\\Local\\Temp/ipykernel_7160/3747470839.py\u001b[0m in \u001b[0;36m<module>\u001b[1;34m\u001b[0m\n\u001b[0;32m      1\u001b[0m \u001b[1;32mfor\u001b[0m \u001b[0mi\u001b[0m \u001b[1;32min\u001b[0m \u001b[0mrange\u001b[0m\u001b[1;33m(\u001b[0m\u001b[1;36m10\u001b[0m\u001b[1;33m)\u001b[0m\u001b[1;33m:\u001b[0m\u001b[1;33m\u001b[0m\u001b[1;33m\u001b[0m\u001b[0m\n\u001b[0;32m      2\u001b[0m     \u001b[1;32mif\u001b[0m \u001b[0mi\u001b[0m \u001b[1;33m>\u001b[0m \u001b[1;36m7\u001b[0m\u001b[1;33m:\u001b[0m\u001b[1;33m\u001b[0m\u001b[1;33m\u001b[0m\u001b[0m\n\u001b[1;32m----> 3\u001b[1;33m         \u001b[1;32mraise\u001b[0m \u001b[0mException\u001b[0m\u001b[1;33m(\u001b[0m\u001b[1;34m\"Nilai lebih besar dari 7\"\u001b[0m\u001b[1;33m)\u001b[0m\u001b[1;33m\u001b[0m\u001b[1;33m\u001b[0m\u001b[0m\n\u001b[0m\u001b[0;32m      4\u001b[0m \u001b[1;33m\u001b[0m\u001b[0m\n\u001b[0;32m      5\u001b[0m     \u001b[0mprint\u001b[0m\u001b[1;33m(\u001b[0m\u001b[1;34m\"Nilai : \"\u001b[0m\u001b[1;33m,\u001b[0m \u001b[0mi\u001b[0m\u001b[1;33m)\u001b[0m\u001b[1;33m\u001b[0m\u001b[1;33m\u001b[0m\u001b[0m\n",
      "\u001b[1;31mException\u001b[0m: Nilai lebih besar dari 7"
     ]
    }
   ],
   "metadata": {}
  },
  {
   "cell_type": "code",
   "execution_count": 24,
   "source": [
    "for index in range(10):\r\n",
    "    assert (index < 7), \"Nilaia lebih besar atau sama dengan 7\"\r\n",
    "    print(\"Nilai : \", index)"
   ],
   "outputs": [
    {
     "output_type": "stream",
     "name": "stdout",
     "text": [
      "Nilai :  0\n",
      "Nilai :  1\n",
      "Nilai :  2\n",
      "Nilai :  3\n",
      "Nilai :  4\n",
      "Nilai :  5\n",
      "Nilai :  6\n"
     ]
    },
    {
     "output_type": "error",
     "ename": "AssertionError",
     "evalue": "Nilaia lebih besar atau sama dengan 7",
     "traceback": [
      "\u001b[1;31m---------------------------------------------------------------------------\u001b[0m",
      "\u001b[1;31mAssertionError\u001b[0m                            Traceback (most recent call last)",
      "\u001b[1;32m~\\AppData\\Local\\Temp/ipykernel_7160/151880336.py\u001b[0m in \u001b[0;36m<module>\u001b[1;34m\u001b[0m\n\u001b[0;32m      1\u001b[0m \u001b[1;32mfor\u001b[0m \u001b[0mindex\u001b[0m \u001b[1;32min\u001b[0m \u001b[0mrange\u001b[0m\u001b[1;33m(\u001b[0m\u001b[1;36m10\u001b[0m\u001b[1;33m)\u001b[0m\u001b[1;33m:\u001b[0m\u001b[1;33m\u001b[0m\u001b[1;33m\u001b[0m\u001b[0m\n\u001b[1;32m----> 2\u001b[1;33m     \u001b[1;32massert\u001b[0m \u001b[1;33m(\u001b[0m\u001b[0mindex\u001b[0m \u001b[1;33m<\u001b[0m \u001b[1;36m7\u001b[0m\u001b[1;33m)\u001b[0m\u001b[1;33m,\u001b[0m \u001b[1;34m\"Nilaia lebih besar atau sama dengan 7\"\u001b[0m\u001b[1;33m\u001b[0m\u001b[1;33m\u001b[0m\u001b[0m\n\u001b[0m\u001b[0;32m      3\u001b[0m     \u001b[0mprint\u001b[0m\u001b[1;33m(\u001b[0m\u001b[1;34m\"Nilai : \"\u001b[0m\u001b[1;33m,\u001b[0m \u001b[0mindex\u001b[0m\u001b[1;33m)\u001b[0m\u001b[1;33m\u001b[0m\u001b[1;33m\u001b[0m\u001b[0m\n",
      "\u001b[1;31mAssertionError\u001b[0m: Nilaia lebih besar atau sama dengan 7"
     ]
    }
   ],
   "metadata": {}
  },
  {
   "cell_type": "code",
   "execution_count": 25,
   "source": [
    "# Try Except\r\n",
    "\r\n",
    "# Try:\r\n",
    "#     kode_kita\r\n",
    "# Except:\r\n",
    "#     Kode/Pernyataan yang dijalankan jika kode gagal dijalankan\r\n",
    "\r\n",
    "a = 10\r\n",
    "b = 0\r\n",
    "\r\n",
    "try:\r\n",
    "    hasil = a/b\r\n",
    "    print(hasil)\r\n",
    "except:\r\n",
    "    print(\"Terjadi kesalahan perhitugan\")"
   ],
   "outputs": [
    {
     "output_type": "stream",
     "name": "stdout",
     "text": [
      "Terjadi kesalahan perhitugan\n"
     ]
    }
   ],
   "metadata": {}
  },
  {
   "cell_type": "code",
   "execution_count": 26,
   "source": [
    "# Multiple Except\r\n",
    "\r\n",
    "a = 10\r\n",
    "b = 0\r\n",
    "\r\n",
    "try:\r\n",
    "    hasil = a/b\r\n",
    "    print(hasil)\r\n",
    "except TypeError:\r\n",
    "    print(\"Terjadi kesalahan pada unit perhitugan\")\r\n",
    "except ZeroDivisionError:\r\n",
    "    print(\"Membagi dengan nilai 0\")\r\n",
    "    "
   ],
   "outputs": [
    {
     "output_type": "stream",
     "name": "stdout",
     "text": [
      "Membagi dengan nilai 0\n"
     ]
    }
   ],
   "metadata": {}
  },
  {
   "cell_type": "code",
   "execution_count": 27,
   "source": [
    "# Try Except Else\r\n",
    "\r\n",
    "\r\n",
    "a = 10\r\n",
    "b = 5\r\n",
    "\r\n",
    "try:\r\n",
    "    hasil = a/b\r\n",
    "    print(hasil)\r\n",
    "except TypeError:\r\n",
    "    print(\"Terjadi kesalahan pada unit perhitugan\")\r\n",
    "except ZeroDivisionError:\r\n",
    "    print(\"Membagi dengan nilai 0\")\r\n",
    "except:\r\n",
    "    print(\"Error tidak diketahui\")\r\n",
    "else:\r\n",
    "    print(\"Sukses\")"
   ],
   "outputs": [
    {
     "output_type": "stream",
     "name": "stdout",
     "text": [
      "2.0\n",
      "Sukses\n"
     ]
    }
   ],
   "metadata": {}
  },
  {
   "cell_type": "code",
   "execution_count": 29,
   "source": [
    "# Finally\r\n",
    "\r\n",
    "a = 10\r\n",
    "b = 0\r\n",
    "try:\r\n",
    "  hasil = a/c\r\n",
    "  print(hasil)\r\n",
    "except TypeError:\r\n",
    "  print('Kesalahan pada unit perhitungan')\r\n",
    "except ZeroDivisionError:\r\n",
    "  print('Membagi dengan nilai 0')\r\n",
    "except:\r\n",
    "  print(\"Terjadi Kesalahan\")\r\n",
    "else:\r\n",
    "  print('Sukses')\r\n",
    "finally:\r\n",
    "  print('program dimatikan')"
   ],
   "outputs": [
    {
     "output_type": "stream",
     "name": "stdout",
     "text": [
      "Terjadi Kesalahan\n",
      "program dimatikan\n"
     ]
    }
   ],
   "metadata": {}
  }
 ],
 "metadata": {
  "orig_nbformat": 4,
  "language_info": {
   "name": "python"
  }
 },
 "nbformat": 4,
 "nbformat_minor": 2
}